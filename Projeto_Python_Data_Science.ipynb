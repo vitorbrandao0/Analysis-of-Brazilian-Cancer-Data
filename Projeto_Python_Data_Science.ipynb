{
  "nbformat": 4,
  "nbformat_minor": 0,
  "metadata": {
    "colab": {
      "provenance": []
    },
    "kernelspec": {
      "name": "python3",
      "display_name": "Python 3"
    },
    "language_info": {
      "name": "python"
    }
  },
  "cells": [
    {
      "cell_type": "markdown",
      "source": [
        "# Python para Data Science\n",
        "\n",
        "Notebook para o curso de Python para Data Science publicado na plataforma da [Alura](https://www.alura.com.br/)"
      ],
      "metadata": {
        "id": "lQx6Mmv0OJyT"
      }
    },
    {
      "cell_type": "markdown",
      "source": [
        "# Introdução ao Python\n",
        "\n",
        "Vamos conhecer o Python, nosso ambiente de estudo e também faremos nosso primeiro código nessa linguagem!"
      ],
      "metadata": {
        "id": "7SiB6JIpYKmY"
      }
    },
    {
      "cell_type": "markdown",
      "source": [
        "## Google Colaboratory\n",
        "\n",
        "Já aprendemos o que é o [Python](https://www.python.org/) agora vamos aprender a utilzar o [Google Colaboratory](https://colab.research.google.com/) e programar em um notebook.\n",
        "\n",
        "Vamos testar algumas funções dessa ferramenta."
      ],
      "metadata": {
        "id": "Yugfb3fCOYY9"
      }
    },
    {
      "cell_type": "markdown",
      "source": [
        " **`>>> Use essa célula para mover <<<`**"
      ],
      "metadata": {
        "id": "2iUHQsJasJAk"
      }
    },
    {
      "cell_type": "code",
      "source": [
        "10"
      ],
      "metadata": {
        "id": "tWQp3j7S6MTX",
        "colab": {
          "base_uri": "https://localhost:8080/"
        },
        "outputId": "61034ca5-5ad0-473d-eee6-3813df084256"
      },
      "execution_count": null,
      "outputs": [
        {
          "output_type": "execute_result",
          "data": {
            "text/plain": [
              "10"
            ]
          },
          "metadata": {},
          "execution_count": 1
        }
      ]
    },
    {
      "cell_type": "markdown",
      "source": [
        "## Olá mundo!\n",
        "\n",
        "Vamso conhecer mais como funciona o ambiente interativo de um notebook. Para isso vamos executar nosso primeiro comando em Python: [`print()`](https://docs.python.org/3/library/functions.html#print)"
      ],
      "metadata": {
        "id": "aLSFP2V7XTfe"
      }
    },
    {
      "cell_type": "code",
      "source": [
        "print('Olá, mundo!')"
      ],
      "metadata": {
        "id": "5s5z5TeP6LDU",
        "colab": {
          "base_uri": "https://localhost:8080/"
        },
        "outputId": "ecc44f90-94b8-441f-825b-b210d510e390"
      },
      "execution_count": null,
      "outputs": [
        {
          "output_type": "stream",
          "name": "stdout",
          "text": [
            "Olá, mundo!\n"
          ]
        }
      ]
    },
    {
      "cell_type": "code",
      "source": [
        "print(10)"
      ],
      "metadata": {
        "id": "tNeEkSW06K8X",
        "colab": {
          "base_uri": "https://localhost:8080/"
        },
        "outputId": "4298f5cd-2341-47f5-c597-91fcbff04a51"
      },
      "execution_count": null,
      "outputs": [
        {
          "output_type": "stream",
          "name": "stdout",
          "text": [
            "10\n"
          ]
        }
      ]
    },
    {
      "cell_type": "code",
      "source": [
        "print('Vitor', 24)"
      ],
      "metadata": {
        "id": "2sKZJ-PO6K0w",
        "colab": {
          "base_uri": "https://localhost:8080/"
        },
        "outputId": "040d6e3b-843f-414d-e58d-db006c68b990"
      },
      "execution_count": null,
      "outputs": [
        {
          "output_type": "stream",
          "name": "stdout",
          "text": [
            "Vitor 24\n"
          ]
        }
      ]
    },
    {
      "cell_type": "markdown",
      "source": [
        "## **Desafio: hora da prática**"
      ],
      "metadata": {
        "id": "dh9FLPkQNeC6"
      }
    },
    {
      "cell_type": "markdown",
      "source": [
        "1. Imprima a frase \"Escola de Dados da Alura!\""
      ],
      "metadata": {
        "id": "hcY1BG4YNlsy"
      }
    },
    {
      "cell_type": "code",
      "source": [
        "print('Escola de Dados da Alura!') #exercícios básicos para treino do comando print"
      ],
      "metadata": {
        "colab": {
          "base_uri": "https://localhost:8080/"
        },
        "id": "7Ceayl60NhWh",
        "outputId": "5fa4667c-c77b-4972-8272-a5e0e8ca493b"
      },
      "execution_count": null,
      "outputs": [
        {
          "output_type": "stream",
          "name": "stdout",
          "text": [
            "Escola de Dados da Alura!\n"
          ]
        }
      ]
    },
    {
      "cell_type": "markdown",
      "source": [
        "2. Imprima seu nome e sobrenome seguindo a estrutura abaixo:\n",
        "Nome: [seu nome]\n",
        "Sobrenome: [seu sobrenome]"
      ],
      "metadata": {
        "id": "Uc5ADkF1Ntlg"
      }
    },
    {
      "cell_type": "code",
      "source": [
        "print('Nome: Vitor')\n",
        "print('Sobrenome: Brandão')"
      ],
      "metadata": {
        "colab": {
          "base_uri": "https://localhost:8080/"
        },
        "id": "OVSed8JDN1OF",
        "outputId": "fe10dca1-e05d-4c4b-cb4d-cc6a340cf8c7"
      },
      "execution_count": null,
      "outputs": [
        {
          "output_type": "stream",
          "name": "stdout",
          "text": [
            "Nome: Vitor\n",
            "Sobrenome: Brandão\n"
          ]
        }
      ]
    },
    {
      "cell_type": "markdown",
      "source": [
        "3. Imprima o seu primeiro nome letra a letra. Por exemplo, meu nome é Mirla, então eu obtenho a seguinte saída:\n",
        "M\n",
        "I\n",
        "R\n",
        "L\n",
        "A"
      ],
      "metadata": {
        "id": "6oPFk-oeOAb3"
      }
    },
    {
      "cell_type": "code",
      "source": [
        "print('V')\n",
        "print('I')\n",
        "print('T')\n",
        "print('O')\n",
        "print('R')"
      ],
      "metadata": {
        "colab": {
          "base_uri": "https://localhost:8080/"
        },
        "id": "I3ii25PgOAEH",
        "outputId": "d77eb313-0fc0-4965-ffb4-e0d66fee2fdd"
      },
      "execution_count": null,
      "outputs": [
        {
          "output_type": "stream",
          "name": "stdout",
          "text": [
            "V\n",
            "I\n",
            "T\n",
            "O\n",
            "R\n"
          ]
        }
      ]
    },
    {
      "cell_type": "markdown",
      "source": [
        "4. Imprima o dia do seu nascimento em formato dia mês ano. Lembrando que os valores de dia e ano não podem estar entre aspas. Supondo uma data de aniversário dia 28 de fevereiro de 2003, o formato deve estar como no exemplo abaixo: 28 fevereiro 2003"
      ],
      "metadata": {
        "id": "3nm0oU8sOWcg"
      }
    },
    {
      "cell_type": "code",
      "source": [
        "print(24, 'julho', 2000)"
      ],
      "metadata": {
        "colab": {
          "base_uri": "https://localhost:8080/"
        },
        "id": "MU3kKOGLOdDs",
        "outputId": "5803eb97-9527-45a4-8016-b3d0613c9c85"
      },
      "execution_count": null,
      "outputs": [
        {
          "output_type": "stream",
          "name": "stdout",
          "text": [
            "24 julho 2000\n"
          ]
        }
      ]
    },
    {
      "cell_type": "markdown",
      "source": [
        "5. Imprima, em um único print, o atual ano que você está fazendo esse curso. O valor do ano deve ser um dado numérico e a saída do print deve ser a seguinte: Ano atual: [ano]"
      ],
      "metadata": {
        "id": "YQDJ5Uz7Om7v"
      }
    },
    {
      "cell_type": "code",
      "source": [
        "print('Ano Atual:', 2025)"
      ],
      "metadata": {
        "colab": {
          "base_uri": "https://localhost:8080/"
        },
        "id": "kuP8JWFQOrCm",
        "outputId": "2cf0482b-9bf1-455b-948f-b462c24290bd"
      },
      "execution_count": null,
      "outputs": [
        {
          "output_type": "stream",
          "name": "stdout",
          "text": [
            "Ano Atual: 2025\n"
          ]
        }
      ]
    },
    {
      "cell_type": "markdown",
      "source": [
        "# Manipulando dados\n",
        "\n",
        "Vamos aprender sobre as variáveis no python, como elas são declaradas e utilizadas além de conhecer outros comandos dentro do Python. :D"
      ],
      "metadata": {
        "id": "iP8uWQmFYFRs"
      }
    },
    {
      "cell_type": "markdown",
      "source": [
        "## Variáveis\n",
        "\n",
        "Em Data Science nós trabalhamos com vários dados e informações, então é essencial saber trabalhar com variáveis."
      ],
      "metadata": {
        "id": "sLNVmnTbag1Z"
      }
    },
    {
      "cell_type": "markdown",
      "source": [
        "Criamos uma variável no python através da atribuição de um valor a ela.\n",
        "\n",
        "Para fazer isso, colocamos o nome da variável um sinal de igual (`=`) e o valor que queremos atribuir"
      ],
      "metadata": {
        "id": "lsCY0wahAbf6"
      }
    },
    {
      "cell_type": "code",
      "source": [
        "idade = 5"
      ],
      "metadata": {
        "id": "8J3pJghf57ZI"
      },
      "execution_count": null,
      "outputs": []
    },
    {
      "cell_type": "code",
      "source": [
        "print(idade)"
      ],
      "metadata": {
        "id": "Byehj1QR57S1",
        "colab": {
          "base_uri": "https://localhost:8080/"
        },
        "outputId": "6ec55648-69f7-4fd6-f3ce-dade10a09d55"
      },
      "execution_count": null,
      "outputs": [
        {
          "output_type": "stream",
          "name": "stdout",
          "text": [
            "5\n"
          ]
        }
      ]
    },
    {
      "cell_type": "code",
      "source": [
        "idade = 10\n",
        "print(idade)"
      ],
      "metadata": {
        "id": "cMjXA8DO58Uj",
        "colab": {
          "base_uri": "https://localhost:8080/"
        },
        "outputId": "db25551c-28d9-461c-e628-c87351ed6eb2"
      },
      "execution_count": null,
      "outputs": [
        {
          "output_type": "stream",
          "name": "stdout",
          "text": [
            "10\n"
          ]
        }
      ]
    },
    {
      "cell_type": "code",
      "source": [
        "idade = 15\n",
        "idade"
      ],
      "metadata": {
        "id": "82qmrXyz58SD",
        "colab": {
          "base_uri": "https://localhost:8080/"
        },
        "outputId": "5b9dc344-afd7-4631-8508-d982eaee3113"
      },
      "execution_count": null,
      "outputs": [
        {
          "output_type": "execute_result",
          "data": {
            "text/plain": [
              "15"
            ]
          },
          "metadata": {},
          "execution_count": 25
        }
      ]
    },
    {
      "cell_type": "code",
      "source": [
        "nome = 'Gabriel'\n",
        "nome"
      ],
      "metadata": {
        "id": "h0QjCDb15z7-",
        "colab": {
          "base_uri": "https://localhost:8080/",
          "height": 35
        },
        "outputId": "81a12e13-12a2-4236-c90a-de58658fe09d"
      },
      "execution_count": null,
      "outputs": [
        {
          "output_type": "execute_result",
          "data": {
            "text/plain": [
              "'Gabriel'"
            ],
            "application/vnd.google.colaboratory.intrinsic+json": {
              "type": "string"
            }
          },
          "metadata": {},
          "execution_count": 26
        }
      ]
    },
    {
      "cell_type": "markdown",
      "source": [
        "Nomes que **não** podemos definir para variáveis:\n",
        "\n",
        "- **Nomes que começam com números**\n",
        "  - Exemplos: `10_notas`, `2_nomes_casa`, etc.\n",
        "- **Palavras separada por espaço**\n",
        "  - Exemplos: `Nome escola`, `notas estudantes`, etc.\n",
        "- **Nomes de funções do Python**\n",
        "  - Exemplos: `print`, `type`, etc."
      ],
      "metadata": {
        "id": "om2N0jHKAzwL"
      }
    },
    {
      "cell_type": "markdown",
      "source": [
        "> Letras maiúsculas e minúsculas vão gerar diferentes variáveis. A varíavel `idade` é diferente de `Idade` que por sua vez também é diferente de `IDADE`:\n",
        "``` Python\n",
        "idade = 1\n",
        "Idade = 2\n",
        "IDADE = 3\n",
        "_idade = 4\n",
        "_idade_ = 5\n",
        "print(idade, Idade, IDADE, _idade, _idade_)\n",
        "1 2 3 4 5\n",
        "```"
      ],
      "metadata": {
        "id": "A19vY2GVMujB"
      }
    },
    {
      "cell_type": "markdown",
      "source": [
        "## Tipos de variáveis\n",
        "\n",
        "Cada variável contém uma classe especifica quanto ao tipo de objeto que ela está se referenciando. Essas classes vão ser diferentes a partir do tipo de dado que nós atribuimos a uma variável.\n",
        "\n",
        "Para saber a classe de cada elemento usamos a função [`type()`](https://docs.python.org/3/library/functions.html#type)"
      ],
      "metadata": {
        "id": "UqhzuBhBHsps"
      }
    },
    {
      "cell_type": "code",
      "source": [
        "i = 5\n",
        "type(i)"
      ],
      "metadata": {
        "id": "-tb-XRcq5v9W",
        "colab": {
          "base_uri": "https://localhost:8080/"
        },
        "outputId": "1c6a475b-1c25-47a4-e883-a38c238e5d1f"
      },
      "execution_count": null,
      "outputs": [
        {
          "output_type": "execute_result",
          "data": {
            "text/plain": [
              "int"
            ]
          },
          "metadata": {},
          "execution_count": 27
        }
      ]
    },
    {
      "cell_type": "code",
      "source": [
        "f=10.78\n",
        "type(f)"
      ],
      "metadata": {
        "id": "5ncn48tw5vw2",
        "colab": {
          "base_uri": "https://localhost:8080/"
        },
        "outputId": "ebce6a33-e9a6-467a-c79b-2c20f1516ffe"
      },
      "execution_count": null,
      "outputs": [
        {
          "output_type": "execute_result",
          "data": {
            "text/plain": [
              "float"
            ]
          },
          "metadata": {},
          "execution_count": 28
        }
      ]
    },
    {
      "cell_type": "code",
      "source": [
        "s = 'Vitor'\n",
        "type(s)"
      ],
      "metadata": {
        "id": "PURhkDrw5vpB",
        "colab": {
          "base_uri": "https://localhost:8080/"
        },
        "outputId": "70fc502a-323a-4fb3-ce2f-c621bd465d75"
      },
      "execution_count": null,
      "outputs": [
        {
          "output_type": "execute_result",
          "data": {
            "text/plain": [
              "str"
            ]
          },
          "metadata": {},
          "execution_count": 29
        }
      ]
    },
    {
      "cell_type": "code",
      "source": [
        "b = True\n",
        "type(b)"
      ],
      "metadata": {
        "id": "w0XcF4MC5vhw",
        "colab": {
          "base_uri": "https://localhost:8080/"
        },
        "outputId": "639cab24-431c-44a7-ecce-b06632c8f7f7"
      },
      "execution_count": null,
      "outputs": [
        {
          "output_type": "execute_result",
          "data": {
            "text/plain": [
              "bool"
            ]
          },
          "metadata": {},
          "execution_count": 30
        }
      ]
    },
    {
      "cell_type": "markdown",
      "source": [
        "Em um conjunto de dados escolares podemos ter vários tipos de informações. Digamos que tenhamos acesso à ficha de dados do aluno *Frabicio Daniel* como transformamos ela em variáveis no Python?\n",
        "\n",
        "#### Ficha:\n",
        "\n",
        "- Nome: Fabricio Daniel\n",
        "- Idade: 15 anos\n",
        "- Media do semestre: 8,45\n",
        "- Situação de aprovação: Verdadeira (aprovado)"
      ],
      "metadata": {
        "id": "O-FxDumfWu0C"
      }
    },
    {
      "cell_type": "code",
      "source": [
        "nome = 'Fabricio Daniel'\n",
        "\n",
        "idade = 15\n",
        "\n",
        "media_semestre = 8.45\n",
        "\n",
        "aprovado = True\n",
        "\n",
        "print(nome, idade, media_semestre, aprovado)\n",
        "\n",
        "print(type(nome), type(idade), type(media_semestre), type(aprovado))"
      ],
      "metadata": {
        "id": "xZ3Exi2L5ozi",
        "colab": {
          "base_uri": "https://localhost:8080/"
        },
        "outputId": "76f54cdb-50cb-4542-8dbe-03cf1c0bf2a7"
      },
      "execution_count": null,
      "outputs": [
        {
          "output_type": "stream",
          "name": "stdout",
          "text": [
            "Fabricio Daniel 15 8.45 True\n",
            "<class 'str'> <class 'int'> <class 'float'> <class 'bool'>\n"
          ]
        }
      ]
    },
    {
      "cell_type": "markdown",
      "source": [
        "## Variáveis numéricas\n",
        "\n",
        "Entre os tipos de dados numéricos vamos nos focar no tipo `inteiro` e `float`."
      ],
      "metadata": {
        "id": "KFq_8Sxf-OG0"
      }
    },
    {
      "cell_type": "markdown",
      "source": [
        "Temos uma tabela de informação de empregos quanto ao cargo, quantidade de pessoas empregadas e o salário correspondente:\n",
        "\n",
        "|Cargo | Quantidade | Salário|\n",
        "|---|---|---|\n",
        "|Segurança | 5 | 3000 |\n",
        "|Docente | 16| 6000|\n",
        "|Diretoria| 1 |12500|\n",
        "\n",
        "Precisamos trabalhar com esses dados fornecendo:\n",
        "\n",
        "- A quantidade total de empregados;\n",
        "- A diferença entre o salário mais baixo e mais alto; e\n",
        "- A média ponderada da faixa salarial da escola."
      ],
      "metadata": {
        "id": "8_HYUbkVYdQY"
      }
    },
    {
      "cell_type": "code",
      "source": [
        "q_seguranca = 5\n",
        "s_seguranca = 3000\n",
        "\n",
        "q_docente = 16\n",
        "s_docente = 6000\n",
        "\n",
        "q_diretoria = 1\n",
        "s_diretoria = 12500"
      ],
      "metadata": {
        "id": "xJIq5MRRZAlj"
      },
      "execution_count": null,
      "outputs": []
    },
    {
      "cell_type": "code",
      "source": [
        "total_empregados = q_seguranca + q_docente + q_diretoria\n",
        "print(total_empregados)"
      ],
      "metadata": {
        "id": "pIgt-k6T5WpB",
        "colab": {
          "base_uri": "https://localhost:8080/"
        },
        "outputId": "497fe83a-7a4d-4134-ad8c-eba861b16d09"
      },
      "execution_count": null,
      "outputs": [
        {
          "output_type": "stream",
          "name": "stdout",
          "text": [
            "22\n"
          ]
        }
      ]
    },
    {
      "cell_type": "code",
      "source": [
        "diferenca_salario = max(s_seguranca, s_docente, s_diretoria) - min(s_seguranca, s_docente, s_diretoria)\n",
        "print(diferenca_salario)"
      ],
      "metadata": {
        "id": "bL9uGHvp5We5",
        "colab": {
          "base_uri": "https://localhost:8080/"
        },
        "outputId": "5a43609e-f032-4a0d-a77b-cdf685e4c4ec"
      },
      "execution_count": null,
      "outputs": [
        {
          "output_type": "stream",
          "name": "stdout",
          "text": [
            "9500\n"
          ]
        }
      ]
    },
    {
      "cell_type": "code",
      "source": [
        "media_ponderada_salarios = ((q_seguranca*s_seguranca) + (q_docente*s_docente) + (q_diretoria*s_diretoria)) / (total_empregados)\n",
        "print (media_ponderada_salarios)"
      ],
      "metadata": {
        "id": "GpTS_c8_5WX_",
        "colab": {
          "base_uri": "https://localhost:8080/"
        },
        "outputId": "58da3b3e-eadd-4435-c3e2-8749a9a5ccb3"
      },
      "execution_count": null,
      "outputs": [
        {
          "output_type": "stream",
          "name": "stdout",
          "text": [
            "5613.636363636364\n"
          ]
        }
      ]
    },
    {
      "cell_type": "markdown",
      "source": [
        "## Strings"
      ],
      "metadata": {
        "id": "yQy7b0ZWoD-P"
      }
    },
    {
      "cell_type": "markdown",
      "source": [
        "Strings são caracterizada por ter um conjunto de caracteres formando um texto.\n",
        "\n",
        "Strigs podem ser criadas ao atribuirmos a uma variável um dado que esteja entre aspas simples (`'`) ou aspas duplas (`\"`)"
      ],
      "metadata": {
        "id": "vlo2-DXusv3s"
      }
    },
    {
      "cell_type": "code",
      "source": [
        "s1 = 'Alura'\n",
        "s2 = \"Alura\"\n",
        "\n",
        "print(type(s1), type(s2))"
      ],
      "metadata": {
        "id": "SSinaAb15FWn",
        "colab": {
          "base_uri": "https://localhost:8080/"
        },
        "outputId": "26745fcc-2249-4598-e857-08f6a7005013"
      },
      "execution_count": null,
      "outputs": [
        {
          "output_type": "stream",
          "name": "stdout",
          "text": [
            "<class 'str'> <class 'str'>\n"
          ]
        }
      ]
    },
    {
      "cell_type": "markdown",
      "source": [
        "As variáveis textuais contém vários métodos que nos ajudam a formatar strings. Métódos podem ser executados ao definirmos um objeto seguindo a seguinte estrutura:\n",
        "\n",
        "```\n",
        "objeto.metodo()\n",
        "```\n",
        "\n",
        "Existem métodos que não necessitam dos `()`, é preciso verificar a documentação de cada caso."
      ],
      "metadata": {
        "id": "2e9UD_CCxqz_"
      }
    },
    {
      "cell_type": "markdown",
      "source": [
        "---\n",
        "**Situação:**\n",
        "\n",
        "Recebemos uma variável com o nome de uma professora da escola para inserimos no cadastro. No entanto, precisamos tratar esse texto antes de inserirmos no sistema"
      ],
      "metadata": {
        "id": "p6aPmMGP4tf9"
      }
    },
    {
      "cell_type": "code",
      "source": [
        "texto = '  Geovana Alessandra dias Sanyos '"
      ],
      "metadata": {
        "id": "4tkS8Iit1Ccg"
      },
      "execution_count": null,
      "outputs": []
    },
    {
      "cell_type": "markdown",
      "source": [
        "O objetivo final é que o nome esteja da seguinte forma:\n",
        "\n",
        "```\n",
        "'GEOVANA ALESSANDRA DIAS SANTOS'\n",
        "```"
      ],
      "metadata": {
        "id": "Dg2ZXSZOGzjC"
      }
    },
    {
      "cell_type": "markdown",
      "source": [
        "### [`str.upper()` ](https://docs.python.org/3/library/stdtypes.html#str.upper)\n",
        "Converte uma string para maiúsculas"
      ],
      "metadata": {
        "id": "iVTAD8q702eN"
      }
    },
    {
      "cell_type": "code",
      "source": [
        "texto.upper()\n",
        "str.upper(texto)\n",
        "print(texto.upper())\n",
        "print(str.upper(texto))\n"
      ],
      "metadata": {
        "id": "sWMt1iWW5LdN",
        "colab": {
          "base_uri": "https://localhost:8080/"
        },
        "outputId": "3dabcfff-c589-4c76-d90d-84a3d48ee99b"
      },
      "execution_count": null,
      "outputs": [
        {
          "output_type": "stream",
          "name": "stdout",
          "text": [
            "  GEOVANA ALESSANDRA DIAS SANYOS \n",
            "  GEOVANA ALESSANDRA DIAS SANYOS \n"
          ]
        }
      ]
    },
    {
      "cell_type": "markdown",
      "source": [
        "### [`str.lower()`](https://docs.python.org/3/library/stdtypes.html#str.lower)\n",
        "Método converte uma string para minúsculas."
      ],
      "metadata": {
        "id": "hbDSBtMV1TpG"
      }
    },
    {
      "cell_type": "code",
      "source": [
        "texto.lower()"
      ],
      "metadata": {
        "id": "ypSOC5WR5MTi",
        "colab": {
          "base_uri": "https://localhost:8080/",
          "height": 35
        },
        "outputId": "1ca2da6b-45d4-4a58-d0bd-61ea3a8bd29c"
      },
      "execution_count": null,
      "outputs": [
        {
          "output_type": "execute_result",
          "data": {
            "text/plain": [
              "'  geovana alessandra dias sanyos '"
            ],
            "application/vnd.google.colaboratory.intrinsic+json": {
              "type": "string"
            }
          },
          "metadata": {},
          "execution_count": 64
        }
      ]
    },
    {
      "cell_type": "markdown",
      "source": [
        "### [`str.strip()`](https://docs.python.org/3/library/stdtypes.html#str.strip)\n",
        "Método remove os espaços em branco do início e do fim de uma string."
      ],
      "metadata": {
        "id": "kz47eWM11gii"
      }
    },
    {
      "cell_type": "code",
      "source": [
        "texto.strip()"
      ],
      "metadata": {
        "id": "Xys25o1N5NKD",
        "colab": {
          "base_uri": "https://localhost:8080/",
          "height": 35
        },
        "outputId": "deae4a6b-a854-4dbd-88e0-08a440754a1c"
      },
      "execution_count": null,
      "outputs": [
        {
          "output_type": "execute_result",
          "data": {
            "text/plain": [
              "'Geovana Alessandra dias Sanyos'"
            ],
            "application/vnd.google.colaboratory.intrinsic+json": {
              "type": "string"
            }
          },
          "metadata": {},
          "execution_count": 65
        }
      ]
    },
    {
      "cell_type": "markdown",
      "source": [
        "### [`str.replace(antigo, novo)`](https://docs.python.org/3/library/stdtypes.html#str.replace)\n",
        "\n",
        "Método substitui todas as ocorrências do texto \"antigo\" na string por \"novo\""
      ],
      "metadata": {
        "id": "m6notiyS1SCV"
      }
    },
    {
      "cell_type": "code",
      "source": [
        "texto.replace('y', 't')"
      ],
      "metadata": {
        "id": "oY2mU2Id5OcO",
        "colab": {
          "base_uri": "https://localhost:8080/",
          "height": 35
        },
        "outputId": "27ab644b-e06b-448a-b3b9-74b4982493d7"
      },
      "execution_count": null,
      "outputs": [
        {
          "output_type": "execute_result",
          "data": {
            "text/plain": [
              "'  Geovana Alessandra dias Santos '"
            ],
            "application/vnd.google.colaboratory.intrinsic+json": {
              "type": "string"
            }
          },
          "metadata": {},
          "execution_count": 67
        }
      ]
    },
    {
      "cell_type": "markdown",
      "source": [
        "### Observações\n",
        "\n",
        "1. Os métodos retornam uma **tranformação**, não a executam no texto!\n",
        "\n",
        "2. Além disso, podemos acumular a execução de métodos."
      ],
      "metadata": {
        "id": "zukvEjhG2Rcn"
      }
    },
    {
      "cell_type": "code",
      "source": [
        "texto"
      ],
      "metadata": {
        "id": "Q6O5y20u5PQk",
        "colab": {
          "base_uri": "https://localhost:8080/",
          "height": 35
        },
        "outputId": "62a133e3-2f27-4573-e13b-900037ad3401"
      },
      "execution_count": null,
      "outputs": [
        {
          "output_type": "execute_result",
          "data": {
            "text/plain": [
              "'  Geovana Alessandra dias Sanyos '"
            ],
            "application/vnd.google.colaboratory.intrinsic+json": {
              "type": "string"
            }
          },
          "metadata": {},
          "execution_count": 68
        }
      ]
    },
    {
      "cell_type": "markdown",
      "source": [
        "Para que seja executada a transformação nós podemos atribuir às saídas das transformações à variável"
      ],
      "metadata": {
        "id": "1KbwfVut2h6I"
      }
    },
    {
      "cell_type": "code",
      "source": [
        "texto = texto.strip().replace('y', 't').upper()\n",
        "print(texto)"
      ],
      "metadata": {
        "id": "W6DiHv2H5Tq-",
        "colab": {
          "base_uri": "https://localhost:8080/"
        },
        "outputId": "d0e6d92e-d9cc-4c70-ffe7-d7033805525d"
      },
      "execution_count": null,
      "outputs": [
        {
          "output_type": "stream",
          "name": "stdout",
          "text": [
            "GEOVANA ALESSANDRA DIAS SANTOS\n"
          ]
        }
      ]
    },
    {
      "cell_type": "markdown",
      "source": [
        "## Coletando dados\n",
        "\n",
        "Em algumas aplicações precisamos coletar valores da pessoa usuária do nosso projeto. Em python conseguimos coletar dados de usuário através do comando [`input()`](https://docs.python.org/3/library/functions.html#input).\n",
        "\n",
        "Para fazer essa coleta podemos atribuir essa função à uma variável."
      ],
      "metadata": {
        "id": "0h9Fh5G9kHCa"
      }
    },
    {
      "cell_type": "code",
      "source": [
        "nome = str(input('Digite seu nome: '))"
      ],
      "metadata": {
        "id": "iEJyxhIj41id",
        "colab": {
          "base_uri": "https://localhost:8080/"
        },
        "outputId": "86eca922-cff3-4b6c-8c60-9ae2e4cde1ad"
      },
      "execution_count": null,
      "outputs": [
        {
          "name": "stdout",
          "output_type": "stream",
          "text": [
            "Digite seu nome: Vitor\n"
          ]
        }
      ]
    },
    {
      "cell_type": "code",
      "source": [
        "nome"
      ],
      "metadata": {
        "id": "MoMXzZkC41Ze",
        "colab": {
          "base_uri": "https://localhost:8080/",
          "height": 35
        },
        "outputId": "29bda3e2-7429-4744-9d8f-994c96a62e80"
      },
      "execution_count": null,
      "outputs": [
        {
          "output_type": "execute_result",
          "data": {
            "text/plain": [
              "'Vitor'"
            ],
            "application/vnd.google.colaboratory.intrinsic+json": {
              "type": "string"
            }
          },
          "metadata": {},
          "execution_count": 73
        }
      ]
    },
    {
      "cell_type": "markdown",
      "source": [
        "O retorno desse comando sempre será uma *string*. Isso quer dizer que mesmo que façamos uma coleta de algo que deva ser numérico, ele será uma string.\n",
        "\n",
        "Então, será preciso **converter o resultado caso não seja desejável obter uma string**."
      ],
      "metadata": {
        "id": "7z7hcLCk_aCY"
      }
    },
    {
      "cell_type": "markdown",
      "source": [
        "Existem funções para conversão de valores:\n",
        "\n",
        "- Inteiros: [`int(dado_para_conversao)`](https://docs.python.org/3/library/functions.html#int)\n",
        "- Float: [`float(dado_para_conversao)`](https://docs.python.org/3/library/functions.html#float)\n",
        "- String: [`str(dado_para_conversao)`](https://docs.python.org/3/library/functions.html#func-str)\n",
        "- Booleano: [`bool(dado_para_conversao)`](https://docs.python.org/3/library/functions.html#bool)"
      ],
      "metadata": {
        "id": "TOlegATj1Jfp"
      }
    },
    {
      "cell_type": "code",
      "source": [
        "ano_entrada = input('Escreva o ano de ingresso do(a) estudante: ')"
      ],
      "metadata": {
        "id": "MQRu7y9646S9",
        "colab": {
          "base_uri": "https://localhost:8080/"
        },
        "outputId": "da03c3ea-7c63-4f8d-bde4-63fdb5c3bc8e"
      },
      "execution_count": null,
      "outputs": [
        {
          "name": "stdout",
          "output_type": "stream",
          "text": [
            "Escreva o ano de ingresso do(a) estudante: 2025\n"
          ]
        }
      ]
    },
    {
      "cell_type": "code",
      "source": [
        "type(ano_entrada)"
      ],
      "metadata": {
        "id": "FwezgXQA48VF",
        "colab": {
          "base_uri": "https://localhost:8080/"
        },
        "outputId": "40fe77af-8499-4201-9734-07c3c8d502c9"
      },
      "execution_count": null,
      "outputs": [
        {
          "output_type": "execute_result",
          "data": {
            "text/plain": [
              "str"
            ]
          },
          "metadata": {},
          "execution_count": 75
        }
      ]
    },
    {
      "cell_type": "code",
      "source": [
        "ano_entrada = int(input('Escreva o ano de ingresso do(a) estudante: '))"
      ],
      "metadata": {
        "id": "bbRqzmOJ49Q1",
        "colab": {
          "base_uri": "https://localhost:8080/"
        },
        "outputId": "61d8b534-635b-460c-cf9b-92ae7386f06e"
      },
      "execution_count": null,
      "outputs": [
        {
          "name": "stdout",
          "output_type": "stream",
          "text": [
            "Escreva o ano de ingresso do(a) estudante: 2025\n"
          ]
        }
      ]
    },
    {
      "cell_type": "code",
      "source": [
        "type(ano_entrada)"
      ],
      "metadata": {
        "id": "nu5xycbG4-X1",
        "colab": {
          "base_uri": "https://localhost:8080/"
        },
        "outputId": "6eb48d63-a26a-4854-8339-d85ee41edfe3"
      },
      "execution_count": null,
      "outputs": [
        {
          "output_type": "execute_result",
          "data": {
            "text/plain": [
              "int"
            ]
          },
          "metadata": {},
          "execution_count": 77
        }
      ]
    },
    {
      "cell_type": "markdown",
      "source": [
        "Buscaremos apresentar melhor agora o resultado que obtivemos da transformação. Nós conseguimos formatar e apresentar o nosso resultado misturando strings com valores não textuais.\n",
        "\n",
        "Para fazer isso usamos a estrutura de formatação `f` com strings."
      ],
      "metadata": {
        "id": "yNI2-XTbB3aS"
      }
    },
    {
      "cell_type": "code",
      "source": [
        "nota_entrada = float(input('Digite a nota do teste de ingresso: '))\n",
        "print(f'Ano de Entrada {ano_entrada} - Nota do teste de ingresso {nota_entrada}.') #esse tipo de utilização de variáveis também pode ser usado através do % e .format"
      ],
      "metadata": {
        "id": "b1eYnEX-4wXz",
        "colab": {
          "base_uri": "https://localhost:8080/"
        },
        "outputId": "525ce0fd-1f21-4b20-ee17-53d78c06a9f1"
      },
      "execution_count": null,
      "outputs": [
        {
          "output_type": "stream",
          "name": "stdout",
          "text": [
            "Digite a nota do teste de ingresso: 9.5\n",
            "Ano de Entrada 2025 - Nota do teste de ingresso 9.5.\n"
          ]
        }
      ]
    },
    {
      "cell_type": "markdown",
      "source": [
        "##**Desafio: hora da prática**\n"
      ],
      "metadata": {
        "id": "TaIYtSnDa_M7"
      }
    },
    {
      "cell_type": "markdown",
      "source": [
        "**Coleta e Amostragem de dados**\n",
        "1. Crie um programa que solicite à pessoa usuária digitar seu nome, e imprima “Olá, [nome]!”.\n",
        "2. Crie um programa que solicite à pessoa usuária digitar seu nome e idade, e imprima “Olá, [nome], você tem [idade] anos.”.\n",
        "3. Crie um programa que solicite à pessoa usuária digitar seu nome, idade e altura em metros, e imprima “Olá, [nome], você tem [idade] anos e mede [altura] metros!”.\n"
      ],
      "metadata": {
        "id": "e0-2760Qevwj"
      }
    },
    {
      "cell_type": "code",
      "source": [
        "# Atividade 1.\n",
        "nome = str(input('Digite seu nome: '))\n",
        "print(f\"Olá, {nome}\")"
      ],
      "metadata": {
        "colab": {
          "base_uri": "https://localhost:8080/"
        },
        "id": "WbCJyWnYa8SN",
        "outputId": "c07306dc-91ec-4fd0-9267-ae5ac5c07d8f"
      },
      "execution_count": null,
      "outputs": [
        {
          "output_type": "stream",
          "name": "stdout",
          "text": [
            "Digite seu nome: Vitor\n",
            "Olá, Vitor\n"
          ]
        }
      ]
    },
    {
      "cell_type": "code",
      "source": [
        "# Atividade 2.\n",
        "nome = str(input('Digite seu nome: '))\n",
        "idade = int(input('Digite sua idade: '))\n",
        "\n",
        "print(f'Olá, {nome}! Você tem {idade} anos de idade.')"
      ],
      "metadata": {
        "colab": {
          "base_uri": "https://localhost:8080/"
        },
        "id": "hrfvjlozbgrd",
        "outputId": "fe141c97-5432-4d20-be8d-fb244dc8ef00"
      },
      "execution_count": null,
      "outputs": [
        {
          "output_type": "stream",
          "name": "stdout",
          "text": [
            "Digite seu nome: Vitor\n",
            "Digite sua idade: 24\n",
            "Olá, Vitor! Você tem 24 anos de idade.\n"
          ]
        }
      ]
    },
    {
      "cell_type": "code",
      "source": [
        "# Atividade 3\n",
        "nome = str(input('Digite seu nome: '))\n",
        "idade = int(input('Digite sua idade: '))\n",
        "altura = float(input('Digite sua altura: '))\n",
        "\n",
        "print(f'Olá, {nome}! Você tem {idade} anos de idade e mede {altura} metros de altura!')"
      ],
      "metadata": {
        "colab": {
          "base_uri": "https://localhost:8080/"
        },
        "id": "arZ14cRBdmQX",
        "outputId": "3f0d628c-b5d4-4790-f648-cdd2c30b8bb2"
      },
      "execution_count": null,
      "outputs": [
        {
          "output_type": "stream",
          "name": "stdout",
          "text": [
            "Digite seu nome: Vitor\n",
            "Digite sua idade: 24\n",
            "Digite sua altura: 1.78\n",
            "Olá, Vitor! Você tem 24 anos de idade e mede 1.78 metros de altura!\n"
          ]
        }
      ]
    },
    {
      "cell_type": "markdown",
      "source": [
        "Calculadora com Operadores\n",
        "1. Crie um programa que solicite dois valores numéricos à pessoa usuária e imprima a soma dos dois valores.\n",
        "2. Crie um programa que solicite três valores numéricos à pessoa usuária e imprima a soma dos três valores.\n",
        "3. Crie um programa que solicite dois valores numéricos à pessoa usuária e imprima a subtração do primeiro pelo o segundo valor.\n",
        "4. Crie um programa que solicite dois valores numéricos à pessoa usuária e imprima a multiplicação dos dois valores.\n",
        "5. Crie um programa que solicite dois valores numéricos, um numerador e um denominador, e realize a divisão entre os dois valores. Deixe claro que o valor do denominador não pode ser 0.\n",
        "6. Crie um programa que solicite dois valores numéricos, um operador e uma potência, e realize a exponenciação entre esses dois valores.\n",
        "7. Crie um programa que solicite dois valores numéricos, um numerador e um denominador e realize a divisão inteira entre os dois valores. Deixe claro que o valor do denominador não pode ser 0.\n",
        "8. Crie um programa que solicite dois valores numéricos, um numerador e um denominador, e retorne o resto da divisão entre os dois valores. Deixe claro que o valor do denominador não pode ser 0.\n",
        "9. Crie um código que solicita 3 notas de um estudante e imprima a média das notas.\n",
        "10. Crie um código que calcule e imprima a média ponderada dos números 5, 12, 20 e 15 com pesos respectivamente iguais a 1, 2, 3 e 4."
      ],
      "metadata": {
        "id": "huy_VTtMelCj"
      }
    },
    {
      "cell_type": "code",
      "source": [
        "# Atividade 1.\n",
        "num1 = float(input('Insira um número: '))\n",
        "num2 = float(input('Insira outro número: '))\n",
        "\n",
        "soma = num1+num2\n",
        "print(f'A soma de {num1} e {num2} resulta em {soma}.')"
      ],
      "metadata": {
        "colab": {
          "base_uri": "https://localhost:8080/"
        },
        "id": "DbefjFOPfLpJ",
        "outputId": "d9632b0b-2a56-4b90-e1b9-fdce3f8fa6fb"
      },
      "execution_count": null,
      "outputs": [
        {
          "output_type": "stream",
          "name": "stdout",
          "text": [
            "Insira um número: 3\n",
            "Insira outro número: 4\n",
            "A soma de 3.0 e 4.0 resulta em 7.0.\n"
          ]
        }
      ]
    },
    {
      "cell_type": "code",
      "source": [
        "# Atividade 2.\n",
        "num1 = float(input('Insira um número: '))\n",
        "num2 = float(input('Insira outro número: '))\n",
        "num3 = float(input('Insira mais um número: '))\n",
        "\n",
        "soma = num1+num2+num3\n",
        "print(f'A soma de {num1}, {num2} e {num3} resulta em {soma}.')"
      ],
      "metadata": {
        "colab": {
          "base_uri": "https://localhost:8080/"
        },
        "id": "Nz9MmRTuf2eO",
        "outputId": "a6686172-e2e6-4759-f1a2-5dc280bc4b7b"
      },
      "execution_count": null,
      "outputs": [
        {
          "output_type": "stream",
          "name": "stdout",
          "text": [
            "Insira um número: 2\n",
            "Insira outro número: 3\n",
            "Insira mais um número: 5\n",
            "A soma de 2.0, 3.0 e 5.0 resulta em 10.0.\n"
          ]
        }
      ]
    },
    {
      "cell_type": "code",
      "source": [
        "# Atividade 3\n",
        "num1 = float(input('Insira um número: '))\n",
        "num2 = float(input('Insira outro número: '))\n",
        "\n",
        "subtracao = num1-num2\n",
        "print(f'A subtração de {num1} e {num2} resulta em {subtracao}.')"
      ],
      "metadata": {
        "colab": {
          "base_uri": "https://localhost:8080/"
        },
        "id": "Ohq4LindgKKo",
        "outputId": "d4a9aa85-1f18-459c-a54a-cc8842e5d4e2"
      },
      "execution_count": null,
      "outputs": [
        {
          "output_type": "stream",
          "name": "stdout",
          "text": [
            "Insira um número: 2\n",
            "Insira outro número: 3\n",
            "A subtração de 2.0 e 3.0 resulta em -1.0.\n"
          ]
        }
      ]
    },
    {
      "cell_type": "code",
      "source": [
        "# Atividade 4\n",
        "num1 = float(input('Insira um número: '))\n",
        "num2 = float(input('Insira outro número: '))\n",
        "\n",
        "multiplicacao = num1*num2\n",
        "print(f'A multiplicação de {num1} e {num2} resulta em {multiplicacao}.')"
      ],
      "metadata": {
        "colab": {
          "base_uri": "https://localhost:8080/"
        },
        "id": "sOwMkDXBgVWw",
        "outputId": "77f6f231-3d40-4c4c-bbad-1c3bc96a8502"
      },
      "execution_count": null,
      "outputs": [
        {
          "output_type": "stream",
          "name": "stdout",
          "text": [
            "Insira um número: 2\n",
            "Insira outro número: 3\n",
            "A multiplicação de 2.0 e 3.0 resulta em 6.0.\n"
          ]
        }
      ]
    },
    {
      "cell_type": "code",
      "source": [
        "# Atividade 5\n",
        "num1 = float(input('Insira um número para o numerador: '))\n",
        "num2 = float(input('Insira outro número para o denominador (exceto zero): '))\n",
        "\n",
        "divisao = num1 / num2\n",
        "\n",
        "print(f'A divisao de {num1} e {num2} resulta em {divisao}.')"
      ],
      "metadata": {
        "colab": {
          "base_uri": "https://localhost:8080/"
        },
        "id": "GAQo8MK0gioR",
        "outputId": "e9116084-2b30-4662-a91c-d3a9611b051b"
      },
      "execution_count": null,
      "outputs": [
        {
          "output_type": "stream",
          "name": "stdout",
          "text": [
            "Insira um número para o numerador: 1\n",
            "Insira outro número para o denominador (exceto zero): 5\n",
            "A divisao de 1.0 e 5.0 resulta em 0.2.\n"
          ]
        }
      ]
    },
    {
      "cell_type": "code",
      "source": [
        "# Atividade 6\n",
        "num1 = float(input('Insira um número para a base da potência: '))\n",
        "num2 = float(input('Insira outro número para o expoente: '))\n",
        "\n",
        "potencia = num1**num2\n",
        "\n",
        "print(f'A exponenciação de {num1} e {num2} resulta em {potencia}.')"
      ],
      "metadata": {
        "colab": {
          "base_uri": "https://localhost:8080/"
        },
        "id": "npn6LOuaih3i",
        "outputId": "a2901936-f2eb-449c-ab2d-b8cee3df2356"
      },
      "execution_count": null,
      "outputs": [
        {
          "output_type": "stream",
          "name": "stdout",
          "text": [
            "Insira um número para a base da potência: 2\n",
            "Insira outro número para o expoente: 5\n",
            "A exponenciação de 2.0 e 5.0 resulta em 32.0.\n"
          ]
        }
      ]
    },
    {
      "cell_type": "code",
      "source": [
        "# Atividade 7\n",
        "num1 = float(input('Insira um número para o numerador: '))\n",
        "num2 = float(input('Insira outro número para o denominador (exceto zero): '))\n",
        "\n",
        "divisao_inteira = num1 // num2\n",
        "\n",
        "print(f'A divisao inteira de {num1} e {num2} resulta em {divisao_inteira}.')"
      ],
      "metadata": {
        "colab": {
          "base_uri": "https://localhost:8080/"
        },
        "id": "NH72V94nizuN",
        "outputId": "92ac08e7-503b-4e2f-fdab-cc08179f1afd"
      },
      "execution_count": null,
      "outputs": [
        {
          "output_type": "stream",
          "name": "stdout",
          "text": [
            "Insira um número para o numerador: 7\n",
            "Insira outro número para o denominador (exceto zero): 2\n",
            "A divisao inteira de 7.0 e 2.0 resulta em 3.0.\n"
          ]
        }
      ]
    },
    {
      "cell_type": "code",
      "source": [
        "# Atividade 8\n",
        "num1 = float(input('Insira um número para o numerador: '))\n",
        "num2 = float(input('Insira outro número para o denominador (exceto zero): '))\n",
        "\n",
        "resto_divisao = num1 % num2\n",
        "\n",
        "print(f'O resto da divisão de {num1} e {num2} resulta em {resto_divisao}.')"
      ],
      "metadata": {
        "colab": {
          "base_uri": "https://localhost:8080/"
        },
        "id": "A_179s_fi95v",
        "outputId": "916b57b6-1085-4328-e999-015c18cb6dc8"
      },
      "execution_count": null,
      "outputs": [
        {
          "output_type": "stream",
          "name": "stdout",
          "text": [
            "Insira um número para o numerador: 7\n",
            "Insira outro número para o denominador (exceto zero): 2\n",
            "A divisao inteira de 7.0 e 2.0 resulta em 1.0.\n"
          ]
        }
      ]
    },
    {
      "cell_type": "code",
      "source": [
        "# Atividade 9\n",
        "nota1 = float(input('Insira a primeira nota do estudante: '))\n",
        "nota2 = float(input('Insira a segunda nota do estudante: '))\n",
        "nota3 = float(input('Insira a terceira nota do estudante: '))\n",
        "\n",
        "media_notas = (nota1 + nota2 + nota3)/3\n",
        "\n",
        "print(f'A média das notas do aluno é  {media_notas}.')"
      ],
      "metadata": {
        "colab": {
          "base_uri": "https://localhost:8080/"
        },
        "id": "WumM-5a2kI_-",
        "outputId": "0f6f7153-5aed-4f7f-95f2-1e079eec912a"
      },
      "execution_count": null,
      "outputs": [
        {
          "output_type": "stream",
          "name": "stdout",
          "text": [
            "Insira a primeira nota do estudante: 8\n",
            "Insira a segunda nota do estudante: 6\n",
            "Insira a terceira nota do estudante: 5\n",
            "A média das notas do aluno é  6.333333333333333.\n"
          ]
        }
      ]
    },
    {
      "cell_type": "code",
      "source": [
        "# Atividade 10\n",
        "num1 = 5\n",
        "num2 = 12\n",
        "num3 = 20\n",
        "num4 = 15\n",
        "\n",
        "soma_num = num1 + num2 + num3 + num4\n",
        "\n",
        "peso1 = 1\n",
        "peso2 = 2\n",
        "peso3 = 3\n",
        "peso4 = 4\n",
        "\n",
        "media_ponderada = (num1*peso1 + num2*peso2 + num3*peso3 + num4*peso4)/(soma_num)\n",
        "\n",
        "print(media_ponderada)"
      ],
      "metadata": {
        "colab": {
          "base_uri": "https://localhost:8080/"
        },
        "id": "JI7biK9QkoSt",
        "outputId": "50d9924c-ad71-4b7a-f2dd-df5a3508ed42"
      },
      "execution_count": null,
      "outputs": [
        {
          "output_type": "stream",
          "name": "stdout",
          "text": [
            "2.8653846153846154\n"
          ]
        }
      ]
    },
    {
      "cell_type": "markdown",
      "source": [
        "Editando textos\n",
        "1. Crie uma variável chamada “frase” e atribua a ela uma string de sua escolha. Em seguida, imprima a frase na tela.\n",
        "2. Crie um código que solicite uma frase e depois imprima a frase na tela.\n",
        "3. Crie um código que solicite uma frase à pessoa usuária e imprima a mesma frase digitada mas com todas as letras maiúsculas.\n",
        "4. Crie um código que solicite uma frase à pessoa usuária e imprima a mesma frase digitada mas com todas as letras minúsculas.\n",
        "5. Crie uma variável chamada “frase” e atribua a ela uma string de sua escolha. Em seguida, imprima a frase sem espaços em branco no início e no fim.\n",
        "6. Crie um código que solicite uma frase à pessoa usuária e imprima a mesma frase sem espaços em branco no início e no fim.\n",
        "7. Crie um código que solicite uma frase à pessoa usuária e imprima a mesma frase sem espaços em branco no início e no fim e em letras minúsculas.\n",
        "8. Crie um código que solicite uma frase à pessoa usuária e imprima a mesma frase com todas as vogais “e” trocadas pela letra “f”.\n",
        "9. Crie um código que solicite uma frase à pessoa usuária e imprima a mesma frase com todas as vogais “a” trocadas pela caractere “@”.\n",
        "10. Crie um código que solicite uma frase à pessoa usuária e imprima a mesma frase com todas as consoantes “s” trocadas pelo caractere “$”."
      ],
      "metadata": {
        "id": "vwEMql27lcdo"
      }
    },
    {
      "cell_type": "code",
      "source": [
        "# Atividade 1\n",
        "\n",
        "frase = str('The grass was greener.')\n",
        "\n",
        "print(frase)\n",
        "\n"
      ],
      "metadata": {
        "colab": {
          "base_uri": "https://localhost:8080/"
        },
        "id": "LhAylqzVl1KF",
        "outputId": "de036cda-3b6d-4c5d-fb13-8164b62b2406"
      },
      "execution_count": null,
      "outputs": [
        {
          "output_type": "stream",
          "name": "stdout",
          "text": [
            "The grass was greener.\n"
          ]
        }
      ]
    },
    {
      "cell_type": "code",
      "source": [
        "# Atividade 2\n",
        "\n",
        "frase = str(input('Insira uma frase de sua escolha: '))\n",
        "\n",
        "print(frase)"
      ],
      "metadata": {
        "colab": {
          "base_uri": "https://localhost:8080/"
        },
        "id": "25LY3s1Nn8-h",
        "outputId": "abb664a0-f338-42a0-9876-0b6af2281e0d"
      },
      "execution_count": null,
      "outputs": [
        {
          "output_type": "stream",
          "name": "stdout",
          "text": [
            "Insira uma frase de sua escolha: The light was brighter\n",
            "The light was brighter\n"
          ]
        }
      ]
    },
    {
      "cell_type": "code",
      "source": [
        "# Atividade 3\n",
        "\n",
        "frase = str(input('Insira uma frase de sua escolha: '))\n",
        "\n",
        "print(frase.upper())"
      ],
      "metadata": {
        "colab": {
          "base_uri": "https://localhost:8080/"
        },
        "id": "JFqOPjE1oICD",
        "outputId": "b53e7f30-6dca-46b8-fa95-60d8049f998f"
      },
      "execution_count": null,
      "outputs": [
        {
          "output_type": "stream",
          "name": "stdout",
          "text": [
            "Insira uma frase de sua escolha: the dark side of the moon\n",
            "THE DARK SIDE OF THE MOON\n"
          ]
        }
      ]
    },
    {
      "cell_type": "code",
      "source": [
        "# Atividade 4\n",
        "frase = str(input('Insira uma frase de sua escolha: '))\n",
        "\n",
        "print(frase.lower())"
      ],
      "metadata": {
        "colab": {
          "base_uri": "https://localhost:8080/"
        },
        "id": "VWtHCXqjo6Nw",
        "outputId": "65876db0-0278-4e0c-b8ed-bcccd402e743"
      },
      "execution_count": null,
      "outputs": [
        {
          "output_type": "stream",
          "name": "stdout",
          "text": [
            "Insira uma frase de sua escolha: THE DARK SIDE OF THE MOON\n",
            "the dark side of the moon\n"
          ]
        }
      ]
    },
    {
      "cell_type": "code",
      "source": [
        "# Atividade 5\n",
        "frase = '   The Dark Side of the Moon   '\n",
        "\n",
        "print(frase.strip())"
      ],
      "metadata": {
        "colab": {
          "base_uri": "https://localhost:8080/"
        },
        "id": "MJylTc6JpFG4",
        "outputId": "565f85e5-4514-484e-be68-74f5c8ca9d6b"
      },
      "execution_count": null,
      "outputs": [
        {
          "output_type": "stream",
          "name": "stdout",
          "text": [
            "The Dark Side of the Moon\n"
          ]
        }
      ]
    },
    {
      "cell_type": "code",
      "source": [
        "# Atividade 6\n",
        "frase = str(input('Insira uma frase de sua escolha: '))\n",
        "\n",
        "print(frase.strip())"
      ],
      "metadata": {
        "colab": {
          "base_uri": "https://localhost:8080/"
        },
        "id": "jRaNTS47pVFD",
        "outputId": "13163aa5-f39b-4f7f-be81-bf96e5e9a2d0"
      },
      "execution_count": null,
      "outputs": [
        {
          "output_type": "stream",
          "name": "stdout",
          "text": [
            "Insira uma frase de sua escolha:     The Dark Side of the Moon    \n",
            "The Dark Side of the Moon\n"
          ]
        }
      ]
    },
    {
      "cell_type": "code",
      "source": [
        "# Atividade 7\n",
        "frase = str(input('Insira uma frase de sua escolha: '))\n",
        "\n",
        "print(frase.lower().strip())"
      ],
      "metadata": {
        "colab": {
          "base_uri": "https://localhost:8080/"
        },
        "id": "5o4q1Oidpj3q",
        "outputId": "b25d424d-2d34-447d-e588-60d6c7769c0f"
      },
      "execution_count": null,
      "outputs": [
        {
          "output_type": "stream",
          "name": "stdout",
          "text": [
            "Insira uma frase de sua escolha:      The Dark Side of the Moon     \n",
            "the dark side of the moon\n"
          ]
        }
      ]
    },
    {
      "cell_type": "code",
      "source": [
        "# Atividade 8\n",
        "frase = str(input('Insira uma frase de sua escolha: '))\n",
        "\n",
        "print(frase.replace('e', 'f'))"
      ],
      "metadata": {
        "colab": {
          "base_uri": "https://localhost:8080/"
        },
        "id": "ouWSJ1KapwA4",
        "outputId": "e26c02e4-38a5-4972-ee0a-d3cbd6279e7b"
      },
      "execution_count": null,
      "outputs": [
        {
          "output_type": "stream",
          "name": "stdout",
          "text": [
            "Insira uma frase de sua escolha: The Dark Side of The Moon\n",
            "Thf Dark Sidf of Thf Moon\n"
          ]
        }
      ]
    },
    {
      "cell_type": "code",
      "source": [
        "# Atividade 9\n",
        "frase = str(input('Insira uma frase de sua escolha: '))\n",
        "\n",
        "print(frase.replace('a', '@'))"
      ],
      "metadata": {
        "colab": {
          "base_uri": "https://localhost:8080/"
        },
        "id": "l2HtOdL9qHiK",
        "outputId": "c442ab49-1ae9-433f-a594-fb548b13cf04"
      },
      "execution_count": null,
      "outputs": [
        {
          "output_type": "stream",
          "name": "stdout",
          "text": [
            "Insira uma frase de sua escolha: The Dark Side of the Moon\n",
            "The D@rk Side of the Moon\n"
          ]
        }
      ]
    },
    {
      "cell_type": "code",
      "source": [
        "# Atividade 10\n",
        "import re\n",
        "frase = str(input('Insira uma frase de sua escolha: '))\n",
        "\n",
        "replace_frase = re.sub(r's', '$', frase, flags=re.IGNORECASE) #Comando para replace desconsiderando se a letra em questão é maiuscula ou minúscula\n",
        "\n",
        "print(replace_frase)"
      ],
      "metadata": {
        "colab": {
          "base_uri": "https://localhost:8080/"
        },
        "id": "Oa6Zsa32qVHP",
        "outputId": "5859cbbc-ac2c-49a8-caa4-af7b3b27fab4"
      },
      "execution_count": null,
      "outputs": [
        {
          "output_type": "stream",
          "name": "stdout",
          "text": [
            "Insira uma frase de sua escolha: The Dark Side of The Moon\n",
            "The Dark $ide of The Moon\n"
          ]
        }
      ]
    },
    {
      "cell_type": "markdown",
      "source": [
        "# Estruturas condicionais"
      ],
      "metadata": {
        "id": "NwRaiHHHhhyl"
      }
    },
    {
      "cell_type": "markdown",
      "source": [
        "## `IF` e `ELSE`\n",
        "\n",
        "O `if` e `else` são duas estruturas condicionais. O `if` executará o bloco de comando caso a condição colocada for **verdadeira**. O `else` é um caso em que a condicional de `if` seja **falsa**."
      ],
      "metadata": {
        "id": "qXZqg9aYEhAh"
      }
    },
    {
      "cell_type": "markdown",
      "source": [
        "O `if` é uma palavra-chave em Python que significa \"se\". Ele é usado para formar uma estrutura condicional, que permite que você verifique se uma determinada condição é verdadeira ou falsa e, em seguida, execute um bloco de código específico dependendo do resultado da verificação. A sintaxe para usar o `if` é:\n",
        "\n",
        "\n",
        "\n",
        "```\n",
        "if condição:\n",
        "    # faça algo\n",
        "```\n",
        "\n"
      ],
      "metadata": {
        "id": "EIhlqHXd2Gil"
      }
    },
    {
      "cell_type": "code",
      "source": [
        "if 2<7:\n",
        "  print('condição verdadeira')"
      ],
      "metadata": {
        "id": "tKtzkTXW4j73",
        "colab": {
          "base_uri": "https://localhost:8080/"
        },
        "outputId": "6c26cc32-4f66-41db-885a-f21b2158701f"
      },
      "execution_count": null,
      "outputs": [
        {
          "output_type": "stream",
          "name": "stdout",
          "text": [
            "condição verdadeira\n"
          ]
        }
      ]
    },
    {
      "cell_type": "markdown",
      "source": [
        "Já o `else` em Python é usada em conjunto com a palavra-chave `if` para formar uma estrutura condicional. A sintaxe para usar o `else` é:\n",
        "\n",
        "```\n",
        "if condição:\n",
        "  # código caso seja verdade\n",
        "else:\n",
        "  # código caso seja falso\n",
        "```\n",
        "\n",
        "O `else` é executado quando a condição verificada pelo `if` é avaliada como `False`."
      ],
      "metadata": {
        "id": "27RW2v_sIKct"
      }
    },
    {
      "cell_type": "markdown",
      "source": [
        "---\n",
        "**Situação:**\n",
        "\n",
        "Receberemos a média de estudantes e precisamos de um algoritmo que execute a análise e decida se esse estudante está **Aprovado** ou Reprovado, mostrando uma mensagem do resultado. Para ser aprovado, a média precisa ser igual ou superior à 6.0."
      ],
      "metadata": {
        "id": "BqORg85XX-Nl"
      }
    },
    {
      "cell_type": "code",
      "source": [
        "media = float(input('Digite a média: '))\n",
        "\n",
        "if media >= 6.0:\n",
        "  print('Aprovado')\n",
        "else:\n",
        "  print('Reprovado')"
      ],
      "metadata": {
        "id": "yaR8bt1P4iCv",
        "colab": {
          "base_uri": "https://localhost:8080/"
        },
        "outputId": "d3f4a2bf-3cec-4ac0-ec68-04109a5d79c1"
      },
      "execution_count": null,
      "outputs": [
        {
          "output_type": "stream",
          "name": "stdout",
          "text": [
            "Digite a média: 5.9\n",
            "Reprovado\n"
          ]
        }
      ]
    },
    {
      "cell_type": "markdown",
      "source": [
        "Agora a nossa instituição de ensino lançou uma nota oficial que pessoas que tenham média entre 4.0 e 6.0 podem fazer os cursos de **Recuperação** nas férias para poder recuperar a nota.\n",
        "\n",
        "Então podemos agora fazer um conjunto de `if`s para que possamos estruturar essa nova condição."
      ],
      "metadata": {
        "id": "bD9O17HB6LUo"
      }
    },
    {
      "cell_type": "code",
      "source": [
        "media = float(input('Digite a média: '))\n",
        "\n",
        "if media >= 6.0:\n",
        "  print('Aprovado')\n",
        "elif 4.0 <= media < 6.0:\n",
        "  print('Recuperação')\n",
        "else:\n",
        "  print('Reprovado')"
      ],
      "metadata": {
        "id": "Rkde8bai4gvq",
        "colab": {
          "base_uri": "https://localhost:8080/"
        },
        "outputId": "000039bd-2297-4e01-cbf6-a0a7d25c1a8a"
      },
      "execution_count": null,
      "outputs": [
        {
          "output_type": "stream",
          "name": "stdout",
          "text": [
            "Digite a média: 6\n",
            "Aprovado\n"
          ]
        }
      ]
    },
    {
      "cell_type": "markdown",
      "source": [
        "Notemos que em casos com 3 situações como esse precisamos definir bem nossas condições. Pois foi feita uma construção com `else` no final, ele irá considerar apenas a alguma condicional para ser o caso **falso** podendo resultar em duas (ou mais) execuções.\n",
        "\n",
        "Por exemplo:"
      ],
      "metadata": {
        "id": "D5e2mByjvycO"
      }
    },
    {
      "cell_type": "code",
      "source": [
        "media = float(input('Digite a média: '))\n",
        "\n",
        "if media >= 6.0:\n",
        "  print('Aprovado')\n",
        "elif 4.0 <= media < 6.0:\n",
        "  print('Recuperação')\n",
        "else:\n",
        "  print('Reprovado')"
      ],
      "metadata": {
        "id": "tKvjzq414fAN"
      },
      "execution_count": null,
      "outputs": []
    },
    {
      "cell_type": "markdown",
      "source": [
        "## `ELIF`\n",
        "\n",
        "O `elif` é uma palavra-chave em Python que significa \"senão, se\" e pode ser considerado uma união do `else` com um `if`. Ela é usada em conjunto com a palavra-chave `if` para formar uma estrutura condicional encadeada.\n",
        "\n"
      ],
      "metadata": {
        "id": "04T5g-7h4zWx"
      }
    },
    {
      "cell_type": "markdown",
      "source": [
        "A sintaxe para usar o `elif` é:\n",
        "\n",
        "```\n",
        "if condição1:\n",
        "    # faça algo\n",
        "elif condição2:\n",
        "    # faça outra coisa\n",
        "elif condição3:\n",
        "    # faça mais alguma coisa\n",
        "else:\n",
        "    # faça algo diferente\n",
        "```\n",
        "\n",
        "O `elif` permite que você verifique várias condições de forma encadeada, economizando espaço em seu código. Se a primeira condição for avaliada como `False`, o interpretador Python avaliará a próxima condição no `elif`. Isso continuará até que uma condição seja avaliada como `True` ou até que o `else` seja atingido. Se nenhuma das condições forem avaliadas como `True`, a execução do código do `else` será iniciada."
      ],
      "metadata": {
        "id": "rNBHr5mm1Lm6"
      }
    },
    {
      "cell_type": "markdown",
      "source": [
        "Vamos usar o mesmo caso anterior:"
      ],
      "metadata": {
        "id": "MVoykFbB4bd4"
      }
    },
    {
      "cell_type": "code",
      "source": [
        "media = float(input('Digite a média: '))\n",
        "\n",
        "if media >= 6.0:\n",
        "  print('Aprovado')\n",
        "elif 4.0 <= media < 6.0:\n",
        "  print('Recuperação')\n",
        "else:\n",
        "  print('Reprovado')"
      ],
      "metadata": {
        "id": "UJCHKoX54dc2"
      },
      "execution_count": null,
      "outputs": []
    },
    {
      "cell_type": "markdown",
      "source": [
        "## Operadores\n",
        "\n",
        "Durante a construção de comandos por vezes precisamos de uma elaboração maior de da expressão condicional, necessitando que alguns operadores lógicos estejam integrados."
      ],
      "metadata": {
        "id": "Tf1wSOem6iwZ"
      }
    },
    {
      "cell_type": "markdown",
      "source": [
        "### `AND`, `OR`, `NOT`\n",
        "\n",
        "Os operadores lógicos `and`, `or` e `not` são usados para combinar expressões lógicas em Python. Eles são usados frequentemente em conjunto com o `if` para criar estruturas condicionais mais complexas.\n"
      ],
      "metadata": {
        "id": "GFIZnRWXGPWO"
      }
    },
    {
      "cell_type": "markdown",
      "source": [
        "- `AND` é usado para verificar se duas condições são verdadeiras. A expressão lógica¹ `x and y` é avaliada como `True` apenas se **ambas as condições `x` e `y` forem verdadeiras**, e como `False` caso contrário.\n",
        "\n",
        "- `OR` é usado para verificar se pelo menos uma das condições é verdadeira. A expressão lógica `x or y` é avaliada como `True` **se pelo menos uma das condições `x` ou `y` for verdadeira**, e como `False` se ambas forem falsas.\n",
        "\n",
        "- `NOT` é usado para **negar uma condição**. A expressão lógica not x é avaliada como True se a condição x for falsa, e como False se a condição x for verdadeira.\n",
        "\n",
        "¹ Uma expressão lógica é uma declaração que pode ser avaliada como verdadeira ou falsa. Ela é composta por operandos lógicos² e operadores lógicos³, que são usados ​​para combinar várias expressões lógicas em uma única expressão.\n",
        "\n",
        "² Os operandos lógicos são os elementos que são comparados ou avaliados em uma expressão lógica. Eles são geralmente valores verdadeiros ou falsos, mas também podem ser expressões lógicas mais complexas. Em Python, os operandos lógicos são os valores `True` e `False`.\n",
        "\n",
        "³ Os operadores lógicos são os símbolos ou palavras-chave que são usados ​​para combinar várias expressões lógicas em uma única expressão. Em Python, os operadores lógicos são `and`, `or` e `not`, bem como as palavras-chave `if`, `elif` e `else`."
      ],
      "metadata": {
        "id": "Z_dgAoHXJbzB"
      }
    },
    {
      "cell_type": "code",
      "source": [
        "t1 = t2 = True\n",
        "f1 = f2 = False"
      ],
      "metadata": {
        "id": "Fs_qb0dLOXsj"
      },
      "execution_count": null,
      "outputs": []
    },
    {
      "cell_type": "code",
      "source": [
        "if t1 and t2:\n",
        "  print('expressão verdadeira')\n",
        "else:\n",
        "  print('expressão falsa')"
      ],
      "metadata": {
        "id": "kL4QVdlZ4O43",
        "colab": {
          "base_uri": "https://localhost:8080/"
        },
        "outputId": "32adf6ee-82f7-4005-a5b7-43422ce5c8bf"
      },
      "execution_count": null,
      "outputs": [
        {
          "output_type": "stream",
          "name": "stdout",
          "text": [
            "expressão verdadeira\n"
          ]
        }
      ]
    },
    {
      "cell_type": "code",
      "source": [
        "if t1 or f2:\n",
        "  print('expressão verdadeira')\n",
        "else:\n",
        "  print('expressão falsa')"
      ],
      "metadata": {
        "id": "JmQYjvsz4Pw5",
        "colab": {
          "base_uri": "https://localhost:8080/"
        },
        "outputId": "fc220852-ecba-4e1a-a503-345d7ffd486f"
      },
      "execution_count": null,
      "outputs": [
        {
          "output_type": "stream",
          "name": "stdout",
          "text": [
            "expressão falsa\n"
          ]
        }
      ]
    },
    {
      "cell_type": "code",
      "source": [
        "if not f1:\n",
        "  print('expressão verdadeira')\n",
        "else:\n",
        "  print('expressão falsa')"
      ],
      "metadata": {
        "id": "WHfJ-ZLM4Q3k",
        "colab": {
          "base_uri": "https://localhost:8080/"
        },
        "outputId": "b2640dd4-34ca-4a6e-f6f9-5c0222d2e3ae"
      },
      "execution_count": null,
      "outputs": [
        {
          "output_type": "stream",
          "name": "stdout",
          "text": [
            "expressão verdadeira\n"
          ]
        }
      ]
    },
    {
      "cell_type": "markdown",
      "source": [
        "### `IN`\n",
        "\n",
        "É usado para verificar se um elemento está presente em uma lista, tupla ou outra variável de conjunto. A expressão `x in y` é avaliada como `True` se o elemento `x` estiver presente na variável de conjunto `y`, e como `False` caso contrário."
      ],
      "metadata": {
        "id": "w7EXG1dhWtja"
      }
    },
    {
      "cell_type": "markdown",
      "source": [
        "Podemos verificar isso com variáveis de texto.\n",
        "\n",
        "---\n",
        "\n",
        "**Situação:**\n",
        "\n",
        "Na escola foi passada uma lista com nomes de estudantes que foram aprovados por média no semestre, mas é preciso verificar se alguns nomes estão nessa lista para verificar se os dados estão corretos.\n",
        "\n",
        "A lista distribuida pode ser observada abaixo:\n",
        "\n",
        "```\n",
        "lista = 'José da Silva, Maria Oliveira, Pedro Martins, Ana Souza, Carlos Rodrigues, Juliana Santos, Bruno Gomes, Beatriz Costa, Felipe Almeida, Mariana Fernandes, João Pinto, Luísa Nascimento, Gabriel Souza, Manuela Santos, Thiago Oliveira, Sofia Ferreira, Rafael Albuquerque, Isabella Gomes, Bruno Costa, Maria Martins, Rafaela Souza, Matheus Fernandes, Luísa Almeida, Beatriz Pinto, Mariana Rodrigues, Gabriel Nascimento, João Ferreira, Maria Albuquerque, Felipe Oliveira\n",
        "'\n",
        "```\n",
        "\n",
        "Os nomes que precisam ser verificados são os seguintes:\n",
        "\n",
        "```\n",
        "nome_1 = 'Mariana Rodrigues'\n",
        "nome_2 = 'Marcelo Nogueira'\n",
        "```"
      ],
      "metadata": {
        "id": "enJNp6JenQbq"
      }
    },
    {
      "cell_type": "code",
      "source": [
        "lista = 'José da Silva, Maria Oliveira, Pedro Martins, Ana Souza, Carlos Rodrigues, Juliana Santos, Bruno Gomes, Beatriz Costa, Felipe Almeida, Mariana Fernandes, João Pinto, Luísa Nascimento, Gabriel Souza, Manuela Santos, Thiago Oliveira, Sofia Ferreira, Rafael Albuquerque, Isabella Gomes, Bruno Costa, Maria Martins, Rafaela Souza, Matheus Fernandes, Luísa Almeida, Beatriz Pinto, Mariana Rodrigues, Gabriel Nascimento, João Ferreira, Maria Albuquerque, Felipe Oliveira'\n",
        "lista"
      ],
      "metadata": {
        "id": "kU25ABUQ5NBe",
        "colab": {
          "base_uri": "https://localhost:8080/",
          "height": 70
        },
        "outputId": "480bdc9b-3951-480b-9ea1-db32f6b8deef"
      },
      "execution_count": null,
      "outputs": [
        {
          "output_type": "execute_result",
          "data": {
            "text/plain": [
              "'José da Silva, Maria Oliveira, Pedro Martins, Ana Souza, Carlos Rodrigues, Juliana Santos, Bruno Gomes, Beatriz Costa, Felipe Almeida, Mariana Fernandes, João Pinto, Luísa Nascimento, Gabriel Souza, Manuela Santos, Thiago Oliveira, Sofia Ferreira, Rafael Albuquerque, Isabella Gomes, Bruno Costa, Maria Martins, Rafaela Souza, Matheus Fernandes, Luísa Almeida, Beatriz Pinto, Mariana Rodrigues, Gabriel Nascimento, João Ferreira, Maria Albuquerque, Felipe Oliveira'"
            ],
            "application/vnd.google.colaboratory.intrinsic+json": {
              "type": "string"
            }
          },
          "metadata": {},
          "execution_count": 164
        }
      ]
    },
    {
      "cell_type": "code",
      "source": [
        "nome_1 = 'Mariana Rodrigues'\n",
        "nome_2 = 'Marcelo Nogueira'\n",
        "\n",
        "if nome_1 in lista:\n",
        "  print(f'{nome_1} está na lista.')\n",
        "else:\n",
        "  print(f'{nome_1} não está na lista')\n",
        "\n",
        "if nome_2 in lista:\n",
        "  print(f'{nome_2} está na lista.')\n",
        "else:\n",
        "  print(f'{nome_2} não está na lista')"
      ],
      "metadata": {
        "id": "GY82qLpivC6Y",
        "colab": {
          "base_uri": "https://localhost:8080/"
        },
        "outputId": "90dee61c-4bb0-400d-ecda-141b824f8dda"
      },
      "execution_count": null,
      "outputs": [
        {
          "output_type": "stream",
          "name": "stdout",
          "text": [
            "Mariana Rodrigues está na lista.\n",
            "Marcelo Nogueira não está na lista\n"
          ]
        }
      ]
    },
    {
      "cell_type": "markdown",
      "source": [
        "##**Desafio: Hora da prática**##"
      ],
      "metadata": {
        "id": "OfS0JC7hGnAF"
      }
    },
    {
      "cell_type": "markdown",
      "source": [
        "1) Escreva um programa que peça à pessoa usuária para fornecer dois números e exibir o número maior."
      ],
      "metadata": {
        "id": "Y5GH_75hGvGf"
      }
    },
    {
      "cell_type": "code",
      "source": [
        "num1 = int(input('Insira um número inteiro: '))\n",
        "num2 = int(input('Insira outro número inteiro: '))\n",
        "\n",
        "if num1 > num2:\n",
        "  print(f'O número {num1} é maior que o número {num2}.')\n",
        "else:\n",
        "  print(f'O número {num2} é maior que o número {num1}.')"
      ],
      "metadata": {
        "colab": {
          "base_uri": "https://localhost:8080/"
        },
        "id": "M513TrPvGyp3",
        "outputId": "58ab8304-b52a-4fb9-c673-7598f8a4ab29"
      },
      "execution_count": null,
      "outputs": [
        {
          "output_type": "stream",
          "name": "stdout",
          "text": [
            "Insira um número inteiro: 1\n",
            "Insira outro número inteiro: 3\n",
            "O número 3 é maior que o número 1.\n"
          ]
        }
      ]
    },
    {
      "cell_type": "markdown",
      "source": [
        "2) Escreva um programa que solicite o percentual de crescimento de produção de uma empresa e informe se houve um crescimento (porcentagem positiva) ou decrescimento (porcentagem negativa)."
      ],
      "metadata": {
        "id": "4B2HbREyHVMc"
      }
    },
    {
      "cell_type": "code",
      "source": [
        "percentual = float(input('Insira o percentual de crescimento da empresa: '))\n",
        "\n",
        "if percentual >= 100:\n",
        "  print('A empresa cresceu em produção!')\n",
        "else:\n",
        "  print('A empresa diminuiu a produção.')"
      ],
      "metadata": {
        "colab": {
          "base_uri": "https://localhost:8080/"
        },
        "id": "xbWPL-shHTaC",
        "outputId": "903a68d7-21fe-4685-a864-c075c01d8b5d"
      },
      "execution_count": null,
      "outputs": [
        {
          "output_type": "stream",
          "name": "stdout",
          "text": [
            "Insira o percentual de crescimento da empresa: 105.78\n",
            "A empresa cresceu em produção!\n"
          ]
        }
      ]
    },
    {
      "cell_type": "markdown",
      "source": [
        "3) Escreva um programa que determine se uma letra fornecida pela pessoa usuária é uma vogal ou consoante."
      ],
      "metadata": {
        "id": "X-60Pyf0H4he"
      }
    },
    {
      "cell_type": "code",
      "source": [
        "vogais = ['a', 'e', 'i', 'o', 'u']\n",
        "\n",
        "letra = str(input('Insira uma letra para verificar se ela é vogal ou consoante: '))\n",
        "\n",
        "if letra in vogais:\n",
        "  print(\"A letra é uma vogal.\")\n",
        "else:\n",
        "  print(\"A letra é uma consoante.\")"
      ],
      "metadata": {
        "colab": {
          "base_uri": "https://localhost:8080/"
        },
        "id": "fWKlzUUWH-S2",
        "outputId": "6c440908-506e-40f4-8088-edd3606da918"
      },
      "execution_count": null,
      "outputs": [
        {
          "output_type": "stream",
          "name": "stdout",
          "text": [
            "Insira uma letra para verificar se ela é vogal ou consoante: h\n",
            "A letra é uma consoante.\n"
          ]
        }
      ]
    },
    {
      "cell_type": "markdown",
      "source": [
        "4) Escreva um programa que leia valores médios de preços de um modelo de carro por 3 anos consecutivos e exiba o valor mais alto e mais baixo entre esses três anos."
      ],
      "metadata": {
        "id": "HoXdOPnDIfDX"
      }
    },
    {
      "cell_type": "code",
      "source": [
        "ano_1 = float(input('Insira o valor do carro no ano de 2023: '))\n",
        "ano_2 = float(input('Insira o valor do carro no ano de 2024: '))\n",
        "ano_3 = float(input('Insira o valor do carro no ano de 2025: '))\n",
        "\n",
        "if ano_1 > ano_2 and ano_1 > ano_3:\n",
        "  print('O valor do carro foi mais alto no ano de 2023.')\n",
        "elif ano_2 > ano_1 and ano_2 > ano_3:\n",
        "  print('O valor do carro foi mais alto no ano de 2024.')\n",
        "else:\n",
        "  print('O valor do carro foi mais alto no ano de 2025.')\n",
        "\n",
        "if ano_1 < ano_2 and ano_1 < ano_3:\n",
        "  print('E o ano de 2023 foi quando o carro esteve em seu menor valor.')\n",
        "elif ano_2 < ano_1 and ano_2 < ano_3:\n",
        "  print('E o ano de 2024 foi quando o carro esteve em seu menor valor.')\n",
        "else:\n",
        "  print('E o ano de 2025 foi quando o carro esteve em seu menor valor.')"
      ],
      "metadata": {
        "colab": {
          "base_uri": "https://localhost:8080/"
        },
        "id": "JUUdOZNHIiow",
        "outputId": "114c8a96-f8ea-46d5-c623-6ac8dac9cc14"
      },
      "execution_count": null,
      "outputs": [
        {
          "output_type": "stream",
          "name": "stdout",
          "text": [
            "Insira o valor do carro no ano de 2023: 12\n",
            "Insira o valor do carro no ano de 2024: 50\n",
            "Insira o valor do carro no ano de 2025: 100\n",
            "O valor do carro foi mais alto no ano de 2025.\n",
            "E o ano de 2023 foi quando o carro esteve em seu menor valor.\n"
          ]
        }
      ]
    },
    {
      "cell_type": "markdown",
      "source": [
        "5) Escreva um programa que pergunte sobre o preço de três produtos e indique qual é o produto mais barato para comprar."
      ],
      "metadata": {
        "id": "DtGZiuN_J1zW"
      }
    },
    {
      "cell_type": "code",
      "source": [
        "produto_1 = float(input(\"Insira o valor do primeiro produto: \"))\n",
        "produto_2 = float(input(\"Insira o valor do segundo produto: \"))\n",
        "produto_3 = float(input(\"Insira o valor do terceiro produto: \"))\n",
        "\n",
        "if produto_1 < produto_2 and produto_1 < produto_3:\n",
        "  print('\\nO primeiro produto é o mais barato!')\n",
        "elif produto_2 < produto_1 and produto_2 < produto_3:\n",
        "  print('\\nO segundo produto é o mais barato!')\n",
        "else:\n",
        "  print('\\n3O terceiro produto é o mais barato!')"
      ],
      "metadata": {
        "colab": {
          "base_uri": "https://localhost:8080/"
        },
        "id": "nsTEpW4nJ3uA",
        "outputId": "8f1f6aa5-74c0-41b4-9f6c-2a714f122c56"
      },
      "execution_count": null,
      "outputs": [
        {
          "output_type": "stream",
          "name": "stdout",
          "text": [
            "Insira o valor do primeiro produto: 1\n",
            "Insira o valor do segundo produto: 2\n",
            "Insira o valor do terceiro produto: 3\n",
            "\n",
            "O primeiro produto é o mais barato!\n"
          ]
        }
      ]
    },
    {
      "cell_type": "markdown",
      "source": [
        "6) Escreva um programa que leia três números e os exiba em ordem decrescente."
      ],
      "metadata": {
        "id": "c4iaRoIcKmnk"
      }
    },
    {
      "cell_type": "code",
      "source": [
        "num_1 = int(input('Insira um número inteiro: '))\n",
        "num_2 = int(input('Insira mais um número inteiro: '))\n",
        "num_3 = int(input('Insira o último número inteiro: '))\n",
        "\n",
        "numeros = [num_1, num_2, num_3]\n",
        "\n",
        "numeros.sort(reverse=True)\n",
        "\n",
        "print(f'Os números em ordem decrescente: {numeros}')"
      ],
      "metadata": {
        "colab": {
          "base_uri": "https://localhost:8080/"
        },
        "id": "54-MrGmKKqa5",
        "outputId": "e16009a6-9dfd-48d9-e1de-a33dfe7ae8f1"
      },
      "execution_count": null,
      "outputs": [
        {
          "output_type": "stream",
          "name": "stdout",
          "text": [
            "Insira um número inteiro: 1\n",
            "Insira mais um número inteiro: 2\n",
            "Insira o último número inteiro: 3\n",
            "Os números em ordem decrescente: [3, 2, 1]\n"
          ]
        }
      ]
    },
    {
      "cell_type": "markdown",
      "source": [
        "7) Escreva um programa que pergunte em qual turno a pessoa usuária estuda (\"manhã\", \"tarde\" ou \"noite\") e exiba a mensagem \"Bom Dia!\", \"Boa Tarde!\", \"Boa Noite!\", ou \"Valor Inválido!\", conforme o caso."
      ],
      "metadata": {
        "id": "I-Wyr03NL36l"
      }
    },
    {
      "cell_type": "code",
      "source": [
        "turno = str(input(\"Insira em que turno você estuda (manhã, tarde ou noite): \"))\n",
        "\n",
        "if turno == 'manhã':\n",
        "  print('Bom Dia!')\n",
        "elif turno == 'tarde':\n",
        "  print('Boa Tarde!')\n",
        "elif turno == 'noite':\n",
        "  print('Boa Noite!')\n",
        "else:\n",
        "  print('Inválido. Insira \"manhã\", \"tarde\" ou \"noite\".')"
      ],
      "metadata": {
        "colab": {
          "base_uri": "https://localhost:8080/"
        },
        "id": "TgG0zVBNL6W4",
        "outputId": "288015c8-b2c2-4f0d-be33-ab86d1f1b884"
      },
      "execution_count": null,
      "outputs": [
        {
          "output_type": "stream",
          "name": "stdout",
          "text": [
            "Insira em que turno você estuda (manhã, tarde ou noite): manha\n",
            "Inválido. Insira \"manhã\", \"tarde\" ou \"noite\".\n"
          ]
        }
      ]
    },
    {
      "cell_type": "markdown",
      "source": [
        "8) Escreva um programa que peça um número inteiro à pessoa usuária e determine se ele é par ou ímpar. Dica: Você pode utilizar o operador módulo %."
      ],
      "metadata": {
        "id": "ubFSjAwFMlQI"
      }
    },
    {
      "cell_type": "code",
      "source": [
        "num = int(input('Insira um número inteiro para verificar se ele é par ou ímpar: '))\n",
        "\n",
        "if num%2==0:\n",
        "  print(\"Par!\")\n",
        "else:\n",
        "  print(\"Ímpar\")"
      ],
      "metadata": {
        "colab": {
          "base_uri": "https://localhost:8080/"
        },
        "id": "JFWg-fmfMqXJ",
        "outputId": "693067ed-0dd7-4f87-e7cc-521c719d3e6f"
      },
      "execution_count": null,
      "outputs": [
        {
          "output_type": "stream",
          "name": "stdout",
          "text": [
            "Insira um número inteiro para verificar se ele é par ou ímpar: 0980898490182384020\n",
            "Par!\n"
          ]
        }
      ]
    },
    {
      "cell_type": "markdown",
      "source": [
        "9) Escreva um programa que peça um número à pessoa usuária e informe se ele é inteiro ou decimal."
      ],
      "metadata": {
        "id": "GH9tzToPM9y1"
      }
    },
    {
      "cell_type": "code",
      "source": [
        "num = float(input('Insira um número: '))\n",
        "\n",
        "if num % 1 == 0:\n",
        "  print(f'O número {num} é inteiro.')\n",
        "else:\n",
        "  print(f'O número {num} é decimal.')"
      ],
      "metadata": {
        "colab": {
          "base_uri": "https://localhost:8080/"
        },
        "id": "5YJvUr3wNJUi",
        "outputId": "7d288a78-0663-454b-fbeb-5bd6c0e5832c"
      },
      "execution_count": null,
      "outputs": [
        {
          "output_type": "stream",
          "name": "stdout",
          "text": [
            "Insira um número: 2.5\n",
            "O número 2.5 é decimal.\n"
          ]
        }
      ]
    },
    {
      "cell_type": "markdown",
      "source": [
        "10) Um programa deve ser escrito para ler dois números e, em seguida, perguntar à pessoa usuária qual operação ele deseja realizar. O resultado da operação deve incluir informações sobre o número - se é par ou ímpar, positivo ou negativo e inteiro ou decimal."
      ],
      "metadata": {
        "id": "IKyF_-PDOCyS"
      }
    },
    {
      "cell_type": "code",
      "source": [
        "num1 = float(input('Insira um número: '))\n",
        "num2 = float(input('Insira outro número: '))\n",
        "operation = str(input('Insira qual operação matemática deseja fazer: \"+\", \"-\", \"*\", \"/\".'))\n",
        "\n",
        "if operation == \"+\":\n",
        "  soma = num1+num2\n",
        "  print(f'A soma dos números {num1} e {num2} é: {soma}.')\n",
        "\n",
        "  if soma % 2 == 0:\n",
        "    print(f\"O número {soma} é par!\")\n",
        "  else:\n",
        "    print(f\"O número {soma} é ímpar!\")\n",
        "\n",
        "  if soma % 1 == 0:\n",
        "    print(f'O número {soma} é inteiro.')\n",
        "  else:\n",
        "    print(f'O número {soma} é decimal.')\n",
        "\n",
        "  if soma >= 0:\n",
        "    print(f'O número {soma} é positivo!')\n",
        "  else:\n",
        "    print(f'O número {soma} é negativo!')\n",
        "\n",
        "\n",
        "elif operation == \"-\":\n",
        "  sub = num1-num2\n",
        "  print(f'A subtração dos números {num1} e {num2} é: {sub}.')\n",
        "\n",
        "  if sub % 2 == 0:\n",
        "    print(f\"O número {sub} é par!\")\n",
        "  else:\n",
        "    print(f\"O número {sub} é ímpar!\")\n",
        "\n",
        "  if sub % 1 == 0:\n",
        "    print(f'O número {sub} é inteiro.')\n",
        "  else:\n",
        "    print(f'O número {sub} é decimal.')\n",
        "\n",
        "  if sub >= 0:\n",
        "    print(f'O número {sub} é positivo!')\n",
        "  else:\n",
        "    print(f'O número {sub} é negativo!')\n",
        "\n",
        "elif operation == \"*\":\n",
        "  mult = num1*num2\n",
        "  print(f'A multiplicação dos números {num1} e {num2} é: {mult}.')\n",
        "\n",
        "  if mult % 2 == 0:\n",
        "    print(f\"O número {mult} é par!\")\n",
        "  else:\n",
        "    print(f\"O número {mult} é ímpar!\")\n",
        "\n",
        "  if mult % 1 == 0:\n",
        "    print(f'O número {mult} é inteiro.')\n",
        "  else:\n",
        "    print(f'O número {mult} é decimal.')\n",
        "\n",
        "  if mult >= 0:\n",
        "    print(f'O número {mult} é positivo!')\n",
        "  else:\n",
        "    print(f'O número {mult} é negativo!')\n",
        "\n",
        "else:\n",
        "  div = num1/num2\n",
        "  print(f'A divisão dos números {num1} e {num2} é: {div}.')\n",
        "\n",
        "  if div % 2 == 0:\n",
        "    print(f\"O número {div} é par!\")\n",
        "  else:\n",
        "    print(f\"O número {div} é ímpar!\")\n",
        "\n",
        "  if div % 1 == 0:\n",
        "    print(f'O número {div} é inteiro.')\n",
        "  else:\n",
        "    print(f'O número {div} é decimal.')\n",
        "\n",
        "  if div >= 0:\n",
        "    print(f'O número {div} é positivo!')\n",
        "  else:\n",
        "    print(f'O número {div3} é negativo!')\n",
        "\n"
      ],
      "metadata": {
        "colab": {
          "base_uri": "https://localhost:8080/"
        },
        "id": "vidzJUT6OFJi",
        "outputId": "1e19bdae-7852-40ef-ddde-5dc563276488"
      },
      "execution_count": null,
      "outputs": [
        {
          "output_type": "stream",
          "name": "stdout",
          "text": [
            "Insira um número: 2\n",
            "Insira outro número: 3\n",
            "Insira qual operação matemática deseja fazer: \"+\", \"-\", \"*\", \"/\"./\n",
            "A divisão dos números 2.0 e 3.0 é: 0.6666666666666666.\n",
            "O número 0.6666666666666666 é ímpar!\n",
            "O número 0.6666666666666666 é decimal.\n",
            "O número 0.6666666666666666 é positivo!\n"
          ]
        }
      ]
    },
    {
      "cell_type": "markdown",
      "source": [
        "11) Escreva um programa que peça à pessoa usuária três números que representam os lados de um triângulo. O programa deve informar se os valores podem ser utilizados para formar um triângulo e, caso afirmativo, se ele é equilátero, isósceles ou escaleno. Tenha em mente algumas dicas:\n",
        "\n",
        "- Três lados formam um triângulo quando a soma de quaisquer dois lados for maior que o terceiro;\n",
        "\n",
        "- Triângulo Equilátero: três lados iguais;\n",
        "- Triângulo Isósceles: quaisquer dois lados iguais;\n",
        "- Triângulo Escaleno: três lados diferentes.\n"
      ],
      "metadata": {
        "id": "BJk6rpPvRK-P"
      }
    },
    {
      "cell_type": "code",
      "source": [
        "lado_1 = float(input('Insira o comprimento de um lado do triângulo: '))\n",
        "lado_2 = float(input('Insira o comprimento de outro lado do triângulo: '))\n",
        "lado_3 = float(input('Insira o comprimento do último lado do triângulo: '))\n",
        "\n",
        "if lado_1 > lado_2 + lado_3 or lado_2 > lado_1 + lado_3 or lado_3 > lado_1 + lado_2:\n",
        "  print (\"Não é possível formar um triângulo quando um dos lados é maior do que a soma dos outros dois.\")\n",
        "\n",
        "else:\n",
        "  if lado_1 == lado_2 == lado_3:\n",
        "    print('Esse triângulo é Equilátero.')\n",
        "  elif lado_1 == lado_2 != lado_3 or lado_2 == lado_3 != lado_1 or lado_3 == lado_1 != lado_2:\n",
        "    print('Esse triângulo é Isósceles.')\n",
        "  else:\n",
        "    print('Esse triângulo é Escaleno.')\n"
      ],
      "metadata": {
        "colab": {
          "base_uri": "https://localhost:8080/"
        },
        "id": "Hh9TfMkCRetk",
        "outputId": "0c58a471-ab25-4531-8c26-ad665588c6a5"
      },
      "execution_count": null,
      "outputs": [
        {
          "output_type": "stream",
          "name": "stdout",
          "text": [
            "Insira o comprimento de um lado do triângulo: 1\n",
            "Insira o comprimento de outro lado do triângulo: 2\n",
            "Insira o comprimento do último lado do triângulo: 5\n",
            "Não é possível formar um triângulo quando um dos lados é maior do que a soma dos outros dois.\n"
          ]
        }
      ]
    },
    {
      "cell_type": "markdown",
      "source": [
        "12) Um estabelecimento está vendendo combustíveis com descontos variados. Para o etanol, se a quantidade comprada for até 15 litros, o desconto será de 2% por litro. Caso contrário, será de 4% por litro. Para o diesel, se a quantidade comprada for até 15 litros, o desconto será de 3% por litro. Caso contrário, será de 5% por litro. O preço do litro de diesel é R$ 2,00 e o preço do litro de etanol é R$ 1,70. Escreva um programa que leia a quantidade de litros vendidos e o tipo de combustível (E para etanol e D para diesel) e calcule o valor a ser pago pelo cliente. Tenha em mente algumas dicas:\n",
        "\n",
        "- O do valor do desconto será a multiplicação entre preço do litro, quantidade de litros e o valor do desconto.\n",
        "- O valor a ser pago por um cliente será o resultado da multiplicação do preço do litro pela quantidade de litros menos o valor de desconto resultante do cálculo."
      ],
      "metadata": {
        "id": "clG63OXjS5Bn"
      }
    },
    {
      "cell_type": "code",
      "source": [
        "comb = str(input('Insira o tipo de combustível (E para Etanol e D para Diesel): '))\n",
        "\n",
        "\n",
        "if comb == 'E':\n",
        "  quant = float(input('Insira a quantidade de litros abastecidos: '))\n",
        "  valor_sem_desconto = quant*1.7\n",
        "  if quant <= 15:\n",
        "    valor_final = valor_sem_desconto*0.98\n",
        "  else:\n",
        "    valor_final = valor_sem_desconto*0.96\n",
        "\n",
        "elif comb == 'D':\n",
        "  quant = float(input('Insira a quantidade de litros abastecidos: '))\n",
        "  valor_sem_desconto = quant*2\n",
        "  if quant <= 15:\n",
        "    valor_final = valor_sem_desconto*0.97\n",
        "    print(f\"O valor total para o abastecimento de combustível {comb} é de R$ {valor_final}.\")\n",
        "  else:\n",
        "    valor_final = valor_sem_desconto*0.95\n",
        "    print(f\"O valor total para o abastecimento de combustível {comb} é de R$ {valor_final}.\")\n",
        "\n",
        "else:\n",
        "  print('Inválido.')\n",
        "\n"
      ],
      "metadata": {
        "colab": {
          "base_uri": "https://localhost:8080/"
        },
        "id": "ap9PgZHFY-UY",
        "outputId": "50b69cce-63bd-489d-97f9-bcc194b35dff"
      },
      "execution_count": null,
      "outputs": [
        {
          "output_type": "stream",
          "name": "stdout",
          "text": [
            "Insira o tipo de combustível (E para Etanol e D para Diesel): D\n",
            "Insira a quantidade de litros abastecidos: 20\n",
            "O valor total para o abastecimento de combustível D é de R$ 38.0.\n"
          ]
        }
      ]
    },
    {
      "cell_type": "markdown",
      "source": [
        "13) Em uma empresa de venda de imóveis você precisa criar um código que analise os dados de vendas anuais para ajudar a diretoria na tomada de decisão. O código precisa coletar os dados de quantidade de venda durante os anos de 2022 e 2023 e fazer um cálculo de variação percentual. A partir do valor da variação, deve ser enviada às seguintes sugestões:\n",
        "\n",
        "- Para variação acima de 20%: bonificação para o time de vendas.\n",
        "- Para variação entre 2% e 20%: pequena bonificação para time de vendas.\n",
        "- Para variação entre 2% e -10%: planejamento de políticas de incentivo às vendas.\n",
        "- Para bonificações abaixo de -10%: corte de gastos."
      ],
      "metadata": {
        "id": "NyDkFHlHa6Km"
      }
    },
    {
      "cell_type": "code",
      "source": [
        "vendas_2022 = int(input(\"Insira quantas vendas foram realizadas no ano de 2022: \"))\n",
        "vendas_2023 = int(input(\"Insira quantas vendas foram realizadas no ano de 2023: \"))\n",
        "\n",
        "percentual = vendas_2023/vendas_2022\n",
        "\n",
        "if percentual >= 0.2:\n",
        "  print(\"Bonificação ao time de vendas!\")\n",
        "\n",
        "elif 0.02 < percentual < 0.2:\n",
        "  print('Pequena bonificação ao time de vendas!')\n",
        "\n",
        "elif -10 < percentual <= 0.02:\n",
        "  print('Planejamento de políticas de incentivo às vendas.')\n",
        "\n",
        "else:\n",
        "  print('Corte de Gastos.')"
      ],
      "metadata": {
        "colab": {
          "base_uri": "https://localhost:8080/"
        },
        "id": "o-Y1aCM3a_1S",
        "outputId": "c6f4820b-dc46-4dc2-9e91-d9cc6c25a821"
      },
      "execution_count": null,
      "outputs": [
        {
          "output_type": "stream",
          "name": "stdout",
          "text": [
            "Insira quantas vendas foram realizadas no ano de 2022: 220\n",
            "Insira quantas vendas foram realizadas no ano de 2023: 232\n",
            "Bonificação ao time de vendas!\n"
          ]
        }
      ]
    },
    {
      "cell_type": "markdown",
      "source": [
        "# Estruturas de repetição"
      ],
      "metadata": {
        "id": "aL1vJPewvwvz"
      }
    },
    {
      "cell_type": "markdown",
      "source": [
        "Quando temos que executar um mesmo bloco de comandos por várias vezes não é muito interessante fazer isso à mão.\n",
        "\n",
        "Imaginemos a situação de termos que coletar e imprimir a média de duas notas de **3 estudantes**:"
      ],
      "metadata": {
        "id": "VcPfCa8d-84t"
      }
    },
    {
      "cell_type": "code",
      "source": [
        "nota_1 = float(input('Digite a 1° nota: '))\n",
        "nota_2 = float(input('Digite a 2° nota: '))\n",
        "\n",
        "print(f'Média: {(nota_1+nota_2)/2}')"
      ],
      "metadata": {
        "id": "LzPyN4Ad3qwy"
      },
      "execution_count": null,
      "outputs": []
    },
    {
      "cell_type": "markdown",
      "source": [
        "Agora imaginemos uma situação em que não são apenas 3 estudantes, mas sim 100 estudantes. Não seria interessante repetir o mesmo código por 100 vezes, mas sim **executar o mesmo código 100 vezes**.\n",
        "\n",
        "Essa repetição conseguimos construir com laços de repetição!"
      ],
      "metadata": {
        "id": "9puIuvUbFSFX"
      }
    },
    {
      "cell_type": "markdown",
      "source": [
        "## `WHILE`"
      ],
      "metadata": {
        "id": "uLO9-aE4-wx8"
      }
    },
    {
      "cell_type": "markdown",
      "source": [
        "O laço `while` é uma estrutura de controle de repetição em Python que permite executar um bloco de código repetidamente enquanto uma determinada condição é verdadeira. Sua estrutura é:\n",
        "\n",
        "\n",
        "\n",
        "```\n",
        "while condição:\n",
        "    # bloco de código\n",
        "```\n",
        "\n",
        "Vamos construir um exemplo com um contador de 1 até 10.\n"
      ],
      "metadata": {
        "id": "rXZxDMiqHxm9"
      }
    },
    {
      "cell_type": "code",
      "source": [
        "contador = 1\n",
        "\n",
        "while contador <= 10:\n",
        "  print(contador)\n",
        "  contador += 1"
      ],
      "metadata": {
        "id": "6b_izu633j0O",
        "colab": {
          "base_uri": "https://localhost:8080/"
        },
        "outputId": "5e3cf64f-86e0-40a1-c17d-f930105711d4"
      },
      "execution_count": null,
      "outputs": [
        {
          "output_type": "stream",
          "name": "stdout",
          "text": [
            "1\n",
            "2\n",
            "3\n",
            "4\n",
            "5\n",
            "6\n",
            "7\n",
            "8\n",
            "9\n",
            "10\n"
          ]
        }
      ]
    },
    {
      "cell_type": "markdown",
      "source": [
        "Agora vamos coletar as notas e médias de cada aluno dentro do while. Faremos um exemplo com 3 médias."
      ],
      "metadata": {
        "id": "W4KZPBJuIrut"
      }
    },
    {
      "cell_type": "code",
      "source": [
        "alunos = 1\n",
        "\n",
        "while alunos <= 3:\n",
        "  nota_1 = float(input('Digite a 1° nota: '))\n",
        "  nota_2 = float(input('Digite a 2° nota: '))\n",
        "\n",
        "  print(f'Média: {(nota_1+nota_2)/2}')\n",
        "  alunos +=1\n",
        "\n"
      ],
      "metadata": {
        "id": "aIeQ_CzW3jiP",
        "colab": {
          "base_uri": "https://localhost:8080/"
        },
        "outputId": "d8170f99-e0f5-469e-9849-d9c00b141ad5"
      },
      "execution_count": null,
      "outputs": [
        {
          "output_type": "stream",
          "name": "stdout",
          "text": [
            "Digite a 1° nota: 1\n",
            "Digite a 2° nota: 10\n",
            "Média: 5.5\n",
            "Digite a 1° nota: 67\n",
            "Digite a 2° nota: 5\n",
            "Média: 36.0\n",
            "Digite a 1° nota: 6\n",
            "Digite a 2° nota: 8\n",
            "Média: 7.0\n"
          ]
        }
      ]
    },
    {
      "cell_type": "markdown",
      "source": [
        "## `FOR`"
      ],
      "metadata": {
        "id": "WgAIaENMMfCP"
      }
    },
    {
      "cell_type": "markdown",
      "source": [
        "O laço `for` é um tipo de estrutura de controle de fluxo em Python que permite iterar sobre um conjunto de elementos. A sua estrutura é:\n",
        "\n",
        "\n",
        "\n",
        "```\n",
        "for elemento in conjunto:\n",
        "    # código a ser executado para cada elemento\n",
        "```\n",
        "\n",
        "O laço for itera sobre cada elemento do conjunto especificado e executa o bloco de código dentro do laço para cada elemento. Quando o laço chega ao final do conjunto, ele é interrompido e o programa continua a execução após o laço.\n",
        "\n"
      ],
      "metadata": {
        "id": "HxrSZoRAMh-x"
      }
    },
    {
      "cell_type": "markdown",
      "source": [
        "O conjunto pode ser gerado com a função [`range()`](https://docs.python.org/3/library/functions.html#func-range). Que é uma função capaz de gerar uma sequência de números inteiros. A estrutura dessa função é:\n",
        "\n",
        "```\n",
        "range(inicio, fim, passo)\n",
        "```\n",
        "\n",
        "Segundo a documentação, o `range()` gera uma sequência de números inteiros a partir do valor do parâmetro `inicio` até o valor do parâmetro `fim`, de acordo com o valor do parâmetro `passo`. Se `inicio` não for especificado, o valor padrão é 0. Se `passo` não for especificado, o valor padrão é 1.\n",
        "\n",
        "\n"
      ],
      "metadata": {
        "id": "6VgjyoQtPHBM"
      }
    },
    {
      "cell_type": "markdown",
      "source": [
        "Vamos fazer o mesmo contador `while` agora com `for`."
      ],
      "metadata": {
        "id": "ryn0hfdlUwC8"
      }
    },
    {
      "cell_type": "code",
      "source": [
        "for contador in range(1, 11, 1):\n",
        "  print(contador)"
      ],
      "metadata": {
        "id": "t6qcdPyP3YgZ",
        "colab": {
          "base_uri": "https://localhost:8080/"
        },
        "outputId": "a4c70014-26e3-4d15-a5e2-ee78c990637c"
      },
      "execution_count": null,
      "outputs": [
        {
          "output_type": "stream",
          "name": "stdout",
          "text": [
            "1\n",
            "2\n",
            "3\n",
            "4\n",
            "5\n",
            "6\n",
            "7\n",
            "8\n",
            "9\n",
            "10\n"
          ]
        }
      ]
    },
    {
      "cell_type": "code",
      "source": [
        "\n",
        "for contador in range(1, 4, 1):\n",
        "  nota_1 = float(input('Digite a 1° nota: '))\n",
        "  nota_2 = float(input('Digite a 2° nota: '))\n",
        "\n",
        "  print(f'\\nMédia: {(nota_1+nota_2)/2}\\n')"
      ],
      "metadata": {
        "id": "KBeY8z573YWz",
        "colab": {
          "base_uri": "https://localhost:8080/"
        },
        "outputId": "0f0518c7-5f68-491c-c614-b23bb0c70874"
      },
      "execution_count": null,
      "outputs": [
        {
          "output_type": "stream",
          "name": "stdout",
          "text": [
            "Digite a 1° nota: 7\n",
            "Digite a 2° nota: 8\n",
            "\n",
            "Média: 7.5\n",
            "\n",
            "Digite a 1° nota: 9\n",
            "Digite a 2° nota: 10\n",
            "\n",
            "Média: 9.5\n",
            "\n",
            "Digite a 1° nota: 7\n",
            "Digite a 2° nota: 6\n",
            "\n",
            "Média: 6.5\n",
            "\n"
          ]
        }
      ]
    },
    {
      "cell_type": "markdown",
      "source": [
        "## **Desafio: Hora da Prática**"
      ],
      "metadata": {
        "id": "2LlnTWIHqGHc"
      }
    },
    {
      "cell_type": "markdown",
      "source": [
        "1) Escreva um programa que peça dois números inteiros e imprima todos os números inteiros entre eles."
      ],
      "metadata": {
        "id": "uXE5O1E0qU-U"
      }
    },
    {
      "cell_type": "code",
      "source": [
        "num1 = int(input(\"Insira um número inteiro: \"))\n",
        "num2 = int(input('Insira outro número inteiro maior que o anterior: '))\n",
        "\n",
        "if num1 < num2:\n",
        "  for i in range(num1+1, num2):\n",
        "    print(i)\n",
        "\n",
        "elif num2 < num1:\n",
        "  for i in range (num2+1, num1):\n",
        "    print(i)\n",
        "\n",
        "else:\n",
        "  print('Os números são iguais, portanto não há nenhum número inteiro entre eles.]')"
      ],
      "metadata": {
        "colab": {
          "base_uri": "https://localhost:8080/"
        },
        "id": "1ut0_x4NqaVG",
        "outputId": "a2b2df69-67ce-4b6e-9b0c-c603cbe1e3c3"
      },
      "execution_count": null,
      "outputs": [
        {
          "output_type": "stream",
          "name": "stdout",
          "text": [
            "Insira um número inteiro: 8\n",
            "Insira outro número inteiro maior que o anterior: 2\n",
            "3\n",
            "4\n",
            "5\n",
            "6\n",
            "7\n"
          ]
        }
      ]
    },
    {
      "cell_type": "markdown",
      "source": [
        "2) Escreva um programa para calcular quantos dias levará para a colônia de uma bactéria A ultrapassar ou igualar a colônia de uma bactéria B, com base nas taxas de crescimento de 3% e 1,5% respectivamente. Considere que a colônia A inicia com 4 elementos e a B com 10."
      ],
      "metadata": {
        "id": "6afKBXFHrwLv"
      }
    },
    {
      "cell_type": "code",
      "source": [
        "col_A = 4\n",
        "col_B = 10\n",
        "dias = 0\n",
        "\n",
        "while col_B >= col_A:\n",
        "  col_A *= 1.03\n",
        "  col_B *= 1.015\n",
        "  dias += 1\n",
        "\n",
        "print(f'Após {dias} dias, a colônia A superou a colônia B em população.')\n",
        "\n"
      ],
      "metadata": {
        "colab": {
          "base_uri": "https://localhost:8080/"
        },
        "id": "yFIb_fmxrzuS",
        "outputId": "1389b018-e849-4abc-be97-479264c53747"
      },
      "execution_count": null,
      "outputs": [
        {
          "output_type": "stream",
          "name": "stdout",
          "text": [
            "Após 63 dias, a colônia A superou a colônia B em população.\n"
          ]
        }
      ]
    },
    {
      "cell_type": "markdown",
      "source": [
        "3) Para tratar uma quantidade de 15 dados de avaliações de pessoas usuárias de um serviço da empresa, precisamos verificar se as notas são válidas. Então, escreva um programa que vai receber a nota de 0 a 5 de todos os dados e verificar se é um valor válido. Caso seja inserido uma nota acima de 5 ou abaixo de 0, repita até que a pessoa usuária insira um valor válido."
      ],
      "metadata": {
        "id": "6N_Y4ztxtpnQ"
      }
    },
    {
      "cell_type": "code",
      "source": [
        "lista_notas = []\n",
        "\n",
        "for nota in range (1, 16, 1):\n",
        "  nota = float(input('Insira uma nota para o serviço (entre 0 e 5): '))\n",
        "\n",
        "  while (nota < 0) or (nota > 5):\n",
        "    nota = float(input('Nota inválida. Insira um valor entre 0 e 5: '))\n",
        "\n",
        "  lista_notas.append(nota)\n",
        "\n",
        "print(f'Todas as notas são válidas. Notas recebidas: {lista_notas}')\n"
      ],
      "metadata": {
        "colab": {
          "base_uri": "https://localhost:8080/"
        },
        "id": "74KrkiAZswhU",
        "outputId": "3cc2d952-dde1-433b-bc11-322f45583014"
      },
      "execution_count": null,
      "outputs": [
        {
          "output_type": "stream",
          "name": "stdout",
          "text": [
            "Insira uma nota para o serviço (entre 0 e 5): 1\n",
            "Insira uma nota para o serviço (entre 0 e 5): 2\n",
            "Insira uma nota para o serviço (entre 0 e 5): 3\n",
            "Insira uma nota para o serviço (entre 0 e 5): 4\n",
            "Insira uma nota para o serviço (entre 0 e 5): 5\n",
            "Insira uma nota para o serviço (entre 0 e 5): 6\n",
            "Nota inválida. Insira um valor entre 0 e 5: 1\n",
            "Insira uma nota para o serviço (entre 0 e 5): 2\n",
            "Insira uma nota para o serviço (entre 0 e 5): 3\n",
            "Insira uma nota para o serviço (entre 0 e 5): 4\n",
            "Insira uma nota para o serviço (entre 0 e 5): 5\n",
            "Insira uma nota para o serviço (entre 0 e 5): 1\n",
            "Insira uma nota para o serviço (entre 0 e 5): 2\n",
            "Insira uma nota para o serviço (entre 0 e 5): 3\n",
            "Insira uma nota para o serviço (entre 0 e 5): 4\n",
            "Insira uma nota para o serviço (entre 0 e 5): 5\n",
            "Todas as notas são válidas. Notas recebidas: [1.0, 2.0, 3.0, 4.0, 5.0, 1.0, 2.0, 3.0, 4.0, 5.0, 1.0, 2.0, 3.0, 4.0, 5.0]\n"
          ]
        }
      ]
    },
    {
      "cell_type": "markdown",
      "source": [
        "4) Desenvolva um programa que leia um conjunto indeterminado de temperaturas em Celsius e informe a média delas. A leitura deve ser encerrada ao ser enviado o valor -273°C."
      ],
      "metadata": {
        "id": "vCfGjKKYwcr1"
      }
    },
    {
      "cell_type": "code",
      "source": [
        "temperatura = float(input('Insira a temperatura: '))\n",
        "i = 0\n",
        "soma_temperaturas = 0\n",
        "\n",
        "while temperatura != -273:\n",
        "  soma_temperaturas += temperatura\n",
        "  i += 1\n",
        "\n",
        "  temperatura = float(input('Insira a temperatura: '))\n",
        "\n",
        "print(f'A média das temperaturas é: {soma_temperaturas/i} ')"
      ],
      "metadata": {
        "colab": {
          "base_uri": "https://localhost:8080/"
        },
        "id": "Ik5dUwjswhCC",
        "outputId": "888a34cc-8595-4753-8006-a2f4d3292517"
      },
      "execution_count": null,
      "outputs": [
        {
          "output_type": "stream",
          "name": "stdout",
          "text": [
            "Insira a temperatura: 50\n",
            "Insira a temperatura: 100\n",
            "Insira a temperatura: -273\n",
            "A média das temperaturas é: 75.0 \n"
          ]
        }
      ]
    },
    {
      "cell_type": "markdown",
      "source": [
        "5) Escreva um programa que calcule o fatorial de um número inteiro fornecido pela pessoa usuária. Lembrando que o fatorial de um número inteiro é a multiplicação desse número por todos os seus antecessores até o número 1. Por exemplo, o fatorial de 5 é 5 x 4 x 3 x 2 x 1 = 120."
      ],
      "metadata": {
        "id": "Xt0FMfUZ0rAK"
      }
    },
    {
      "cell_type": "code",
      "source": [
        "num = int(input('Insira um número inteiro para calcular seu fatorial: '))\n",
        "\n",
        "fatorial = 1\n",
        "\n",
        "contador = num\n",
        "\n",
        "while contador != 0:\n",
        "  fatorial *= contador\n",
        "  contador -= 1\n",
        "\n",
        "print(f'O fatorial de {num} é {fatorial}')"
      ],
      "metadata": {
        "colab": {
          "base_uri": "https://localhost:8080/"
        },
        "id": "IJwytU3D0thP",
        "outputId": "2c6a27f1-4113-414f-e819-91a3c991d4eb"
      },
      "execution_count": null,
      "outputs": [
        {
          "output_type": "stream",
          "name": "stdout",
          "text": [
            "Insira um número inteiro para calcular seu fatorial: 6\n",
            "O fatorial de 6 é 720\n"
          ]
        }
      ]
    },
    {
      "cell_type": "markdown",
      "source": [
        "6) Escreva um programa que gere a tabuada de um número inteiro de 1 a 10, de acordo com a escolha da pessoa usuária. Como exemplo, para o número 2, a tabuada deve ser mostrada no seguinte formato:\n",
        "\n",
        "Tabuada do 2:\n",
        "2 x 1 = 2\n",
        "2 x 2 = 4\n",
        "[...]\n",
        "2 x 10 = 20"
      ],
      "metadata": {
        "id": "TANctQx52BoA"
      }
    },
    {
      "cell_type": "code",
      "source": [
        "num = int(input('Insira um número inteiro para ver sua tabuada: '))\n",
        "\n",
        "for i in range (1, 11):\n",
        "  print(f'{num} x {i} = {num*i}')"
      ],
      "metadata": {
        "colab": {
          "base_uri": "https://localhost:8080/"
        },
        "id": "CMYUulVe2GY_",
        "outputId": "d183bf00-0cc7-40b4-8dd3-5c5c475343b4"
      },
      "execution_count": null,
      "outputs": [
        {
          "output_type": "stream",
          "name": "stdout",
          "text": [
            "Insira um número inteiro para ver sua tabuada: 8\n",
            "8 x 1 = 8\n",
            "8 x 2 = 16\n",
            "8 x 3 = 24\n",
            "8 x 4 = 32\n",
            "8 x 5 = 40\n",
            "8 x 6 = 48\n",
            "8 x 7 = 56\n",
            "8 x 8 = 64\n",
            "8 x 9 = 72\n",
            "8 x 10 = 80\n"
          ]
        }
      ]
    },
    {
      "cell_type": "markdown",
      "source": [
        "7) Os números primos possuem várias aplicações dentro da Ciência de Dados em criptografia e segurança, por exemplo. Um número primo é aquele que é divisível apenas por um e por ele mesmo. Assim, faça um programa que peça um número inteiro e determine se ele é ou não um número primo."
      ],
      "metadata": {
        "id": "UaMGGiGE2hPe"
      }
    },
    {
      "cell_type": "code",
      "source": [
        "num = int(input('Insira um número inteiro para verificar se ele é primo: '))\n",
        "\n",
        "primo = True\n",
        "\n",
        "if num <= 1:\n",
        "  primo = False\n",
        "\n",
        "else:\n",
        "  for i in range (2, num):\n",
        "    if num % i == 0:\n",
        "      primo = False\n",
        "      break\n",
        "\n",
        "if primo:\n",
        "  print(f'O número {num} é primo.')\n",
        "else:\n",
        "  print(f'O número {num} NÃO é primo')"
      ],
      "metadata": {
        "colab": {
          "base_uri": "https://localhost:8080/"
        },
        "id": "J2k1xkoG2mtZ",
        "outputId": "7fe67b05-c8d7-4ace-a06e-222a770321ec"
      },
      "execution_count": null,
      "outputs": [
        {
          "output_type": "stream",
          "name": "stdout",
          "text": [
            "Insira um número inteiro para verificar se ele é primo: 37\n",
            "O número 37 é primo.\n"
          ]
        }
      ]
    },
    {
      "cell_type": "markdown",
      "source": [
        "8) Vamos entender a distribuição de idades de pensionistas de uma empresa de previdência. Escreva um programa que leia as idades de uma quantidade não informada de clientes e mostre a distribuição em intervalos de [0-25], [26-50], [51-75] e [76-100]. Encerre a entrada de dados com um número negativo."
      ],
      "metadata": {
        "id": "peuFklDi4HBD"
      }
    },
    {
      "cell_type": "code",
      "source": [
        "idade = int(input('Insira a idade do pensionista: '))\n",
        "\n",
        "grupo1 = 0\n",
        "grupo2 = 0\n",
        "grupo3 = 0\n",
        "grupo4 = 0\n",
        "\n",
        "while idade >= 0:\n",
        "  if idade >= 0 and idade <= 25:\n",
        "    grupo1 += 1\n",
        "\n",
        "  elif idade >= 26 and idade <= 50:\n",
        "    grupo2 += 1\n",
        "\n",
        "  elif idade >= 51 and idade <= 75:\n",
        "    grupo3 += 1\n",
        "\n",
        "  else:\n",
        "    grupo4 += 1\n",
        "\n",
        "  idade = int(input('Insira a idade do pensionista: '))\n",
        "\n",
        "print(f\"Existem {grupo1} pensionistas na faixa de [0-25].\")\n",
        "print(f\"Existem {grupo2} pensionistas na faixa de [26-50].\")\n",
        "print(f\"Existem {grupo3} pensionistas na faixa de [51-75].\")\n",
        "print(f\"Existem {grupo4} pensionistas na faixa de [76-100].\")"
      ],
      "metadata": {
        "colab": {
          "base_uri": "https://localhost:8080/"
        },
        "id": "cUYkB_eL4JTb",
        "outputId": "2fd05f3f-5559-47c2-8974-6da1190227f2"
      },
      "execution_count": null,
      "outputs": [
        {
          "output_type": "stream",
          "name": "stdout",
          "text": [
            "Insira a idade do pensionista: 0\n",
            "Insira a idade do pensionista: 25\n",
            "Insira a idade do pensionista: 26\n",
            "Insira a idade do pensionista: 50\n",
            "Insira a idade do pensionista: 51\n",
            "Insira a idade do pensionista: 75\n",
            "Insira a idade do pensionista: 76\n",
            "Insira a idade do pensionista: 100\n",
            "Insira a idade do pensionista: -2\n",
            "Existem 2 pensionistas na faixa de [0-25].\n",
            "Existem 2 pensionistas na faixa de [26-50].\n",
            "Existem 2 pensionistas na faixa de [51-75].\n",
            "Existem 2 pensionistas na faixa de [76-100].\n"
          ]
        }
      ]
    },
    {
      "cell_type": "markdown",
      "source": [
        "9) Em uma eleição para gerência em uma empresa com 20 pessoas colaboradoras, existem quatro candidatos(as). Escreva um programa que calcule o(a) vencedor(a) da eleição. A votação ocorreu da seguinte maneira:\n",
        "\n",
        "Cada colaborador(a) votou em uma das quatro pessoas candidatas (que representamos pelos números 1, 2, 3 e 4).\n",
        "Também foram contabilizados os votos nulos (representados pelo número 5) e os votos em branco (representados pelo número 6)."
      ],
      "metadata": {
        "id": "ezjMxfSt6VHZ"
      }
    },
    {
      "cell_type": "code",
      "source": [
        "voto = int(input('Insira seu voto (candidatos 1 a 4, branco 5 e nulo 6): '))\n",
        "\n",
        "candidato1 = 0\n",
        "candidato2 = 0\n",
        "candidato3 = 0\n",
        "candidato4 = 0\n",
        "branco = 0\n",
        "nulo = 0\n",
        "\n",
        "contador_votos = 0\n",
        "\n",
        "if voto == 1:\n",
        "  candidato1 += 1\n",
        "  contador_votos += 1\n",
        "\n",
        "elif voto == 2:\n",
        "  candidato2 += 1\n",
        "  contador_votos += 1\n",
        "\n",
        "elif voto == 3:\n",
        "  candidato3 += 1\n",
        "  contador_votos += 1\n",
        "\n",
        "elif voto == 4:\n",
        "  candidato4 += 1\n",
        "  contador_votos += 1\n",
        "\n",
        "elif voto == 5:\n",
        "  branco += 1\n",
        "  contador_votos += 1\n",
        "\n",
        "elif voto == 6:\n",
        "  nulo += 1\n",
        "  contador_votos += 1\n",
        "\n",
        "\n",
        "while contador_votos < 20:\n",
        "  if voto == 1:\n",
        "    candidato1 += 1\n",
        "    contador_votos += 1\n",
        "    voto = int(input('Insira seu voto (candidatos 1 a 4, branco 5 e nulo 6): '))\n",
        "    print(f'Total de votos {contador_votos}')\n",
        "\n",
        "  elif voto == 2:\n",
        "    candidato2 += 1\n",
        "    contador_votos += 1\n",
        "    voto = int(input('Insira seu voto (candidatos 1 a 4, branco 5 e nulo 6): '))\n",
        "    print(f'Total de votos {contador_votos}')\n",
        "\n",
        "  elif voto == 3:\n",
        "    candidato3 += 1\n",
        "    contador_votos += 1\n",
        "    voto = int(input('Insira seu voto (candidatos 1 a 4, branco 5 e nulo 6): '))\n",
        "    print(f'Total de votos {contador_votos}')\n",
        "\n",
        "  elif voto == 4:\n",
        "    candidato4 += 1\n",
        "    contador_votos += 1\n",
        "    voto = int(input('Insira seu voto (candidatos 1 a 4, branco 5 e nulo 6): '))\n",
        "    print(f'Total de votos {contador_votos}')\n",
        "\n",
        "  elif voto == 5:\n",
        "    branco += 1\n",
        "    contador_votos += 1\n",
        "    voto = int(input('Insira seu voto (candidatos 1 a 4, branco 5 e nulo 6): '))\n",
        "    print(f'Total de votos {contador_votos}')\n",
        "\n",
        "  elif voto == 6:\n",
        "    nulo += 1\n",
        "    contador_votos += 1\n",
        "    voto = int(input('Insira seu voto (candidatos 1 a 4, branco 5 e nulo 6): '))\n",
        "    print(f'Total de votos {contador_votos}')\n",
        "\n",
        "print('\\nResultado das Eleições: \\n')\n",
        "print(f'Candidato 1: {candidato1} votos')\n",
        "print(f'Candidato 2: {candidato2} votos')\n",
        "print(f'Candidato 3: {candidato3} votos')\n",
        "print(f'Candidato 4: {candidato4} votos')\n",
        "print(f'Votos Brancos: {branco} votos')\n",
        "print(f'Votos Nulos: {nulo} votos')\n"
      ],
      "metadata": {
        "colab": {
          "base_uri": "https://localhost:8080/"
        },
        "id": "_wWGeAPB6XzU",
        "outputId": "98ee6db8-8b8a-4987-feb3-4c29d4d627d3"
      },
      "execution_count": null,
      "outputs": [
        {
          "output_type": "stream",
          "name": "stdout",
          "text": [
            "Insira seu voto (candidatos 1 a 4, branco 5 e nulo 6): 1\n",
            "Insira seu voto (candidatos 1 a 4, branco 5 e nulo 6): 2\n",
            "Total de votos 2\n",
            "Insira seu voto (candidatos 1 a 4, branco 5 e nulo 6): 3\n",
            "Total de votos 3\n",
            "Insira seu voto (candidatos 1 a 4, branco 5 e nulo 6): 4\n",
            "Total de votos 4\n",
            "Insira seu voto (candidatos 1 a 4, branco 5 e nulo 6): 5\n",
            "Total de votos 5\n",
            "Insira seu voto (candidatos 1 a 4, branco 5 e nulo 6): 6\n",
            "Total de votos 6\n",
            "Insira seu voto (candidatos 1 a 4, branco 5 e nulo 6): 1\n",
            "Total de votos 7\n",
            "Insira seu voto (candidatos 1 a 4, branco 5 e nulo 6): 2\n",
            "Total de votos 8\n",
            "Insira seu voto (candidatos 1 a 4, branco 5 e nulo 6): 3\n",
            "Total de votos 9\n",
            "Insira seu voto (candidatos 1 a 4, branco 5 e nulo 6): 4\n",
            "Total de votos 10\n",
            "Insira seu voto (candidatos 1 a 4, branco 5 e nulo 6): 5\n",
            "Total de votos 11\n",
            "Insira seu voto (candidatos 1 a 4, branco 5 e nulo 6): 6\n",
            "Total de votos 12\n",
            "Insira seu voto (candidatos 1 a 4, branco 5 e nulo 6): 1\n",
            "Total de votos 13\n",
            "Insira seu voto (candidatos 1 a 4, branco 5 e nulo 6): 2\n",
            "Total de votos 14\n",
            "Insira seu voto (candidatos 1 a 4, branco 5 e nulo 6): 3\n",
            "Total de votos 15\n",
            "Insira seu voto (candidatos 1 a 4, branco 5 e nulo 6): 4\n",
            "Total de votos 16\n",
            "Insira seu voto (candidatos 1 a 4, branco 5 e nulo 6): 5\n",
            "Total de votos 17\n",
            "Insira seu voto (candidatos 1 a 4, branco 5 e nulo 6): 6\n",
            "Total de votos 18\n",
            "Insira seu voto (candidatos 1 a 4, branco 5 e nulo 6): 1\n",
            "Total de votos 19\n",
            "Insira seu voto (candidatos 1 a 4, branco 5 e nulo 6): 2\n",
            "Total de votos 20\n",
            "\n",
            "Resultado das Eleições: \n",
            "\n",
            "Candidato 1: 5 votos\n",
            "Candidato 2: 3 votos\n",
            "Candidato 3: 3 votos\n",
            "Candidato 4: 3 votos\n",
            "Votos Brancos: 3 votos\n",
            "Votos Nulos: 3 votos\n"
          ]
        }
      ]
    },
    {
      "cell_type": "markdown",
      "source": [
        "# Estruturas de dados"
      ],
      "metadata": {
        "id": "8noP8OJ0Vhux"
      }
    },
    {
      "cell_type": "markdown",
      "source": [
        "Um conjunto de elementos é uma coleção de itens, que são armazenados juntos de maneira organizada. Alguns exemplos de conjuntos de elementos em Python são listas, strings e dicionários."
      ],
      "metadata": {
        "id": "xpEUkefTu8fY"
      }
    },
    {
      "cell_type": "markdown",
      "source": [
        "## Listas"
      ],
      "metadata": {
        "id": "THSg4KYLwxIb"
      }
    },
    {
      "cell_type": "markdown",
      "source": [
        "As listas podem armazenar uma coleção de itens em ordem. Eles são delimitados por colchetes `[]` e os itens são separados por vírgulas.\n",
        "\n",
        "Elas também podem armazenar qualquer tipo de item, incluindo números, strings, objetos e outras listas. Elas também podem armazenar itens de tipos de dados diferentes juntos em uma única lista."
      ],
      "metadata": {
        "id": "dzpsiqrOyJcK"
      }
    },
    {
      "cell_type": "code",
      "source": [
        "lista = ['Fabrício Daniel', 9.5, 9.0, 8.0, True]"
      ],
      "metadata": {
        "id": "1NSzXfct3Lkw"
      },
      "execution_count": null,
      "outputs": []
    },
    {
      "cell_type": "markdown",
      "source": [
        "As listas são organizadas em Python porque **cada elemento da lista tem um índice que indica sua posição na lista**. Os índices começam em 0 e vão até o tamanho da lista menos 1."
      ],
      "metadata": {
        "id": "qUz3sJNl6LgK"
      }
    },
    {
      "cell_type": "markdown",
      "source": [
        "Temos então 5 elementos com índices variando de 0 a 4, ordenadamente:\n",
        "\n",
        "```\n",
        "#             [0]           [1]   [2]   [3]    [4]\n",
        "lista = ['Fabricio Daniel', 9.5 , 9.0 , 8.0 , True]\n",
        "```\n",
        "\n",
        "Em Python temos também os índices **negativos** que se iniciam no último elemento com o valor de `-1` e depois avancam no universo dos negativos até chegar no 1° elemeno:\n",
        "\n",
        "```\n",
        "#             [-5]         [-4]  [-3]  [-2]   [-1]\n",
        "lista = ['Fabricio Daniel', 9.5 , 9.0 , 8.0 , True]\n",
        "```\n",
        "\n",
        "Conseguimos selecionar separadamente cada elemento através de seus respectivos índices. Colocando o nome da lista e em seguida o índice a ser selecionado."
      ],
      "metadata": {
        "id": "rLf-Qg526hFD"
      }
    },
    {
      "cell_type": "code",
      "source": [
        "lista[0]"
      ],
      "metadata": {
        "id": "S1lf1DWg3J7A",
        "colab": {
          "base_uri": "https://localhost:8080/",
          "height": 35
        },
        "outputId": "47341642-6311-4e3e-800b-3d30c90218e3"
      },
      "execution_count": null,
      "outputs": [
        {
          "output_type": "execute_result",
          "data": {
            "text/plain": [
              "'Fabrício Daniel'"
            ],
            "application/vnd.google.colaboratory.intrinsic+json": {
              "type": "string"
            }
          },
          "metadata": {},
          "execution_count": 9
        }
      ]
    },
    {
      "cell_type": "code",
      "source": [
        "lista [1]"
      ],
      "metadata": {
        "id": "5MZu9F6S3JxS",
        "colab": {
          "base_uri": "https://localhost:8080/"
        },
        "outputId": "7817db32-1332-4baf-f30c-c1ae784d7101"
      },
      "execution_count": null,
      "outputs": [
        {
          "output_type": "execute_result",
          "data": {
            "text/plain": [
              "9.5"
            ]
          },
          "metadata": {},
          "execution_count": 10
        }
      ]
    },
    {
      "cell_type": "code",
      "source": [
        "lista[-1]"
      ],
      "metadata": {
        "id": "9uLwwKom3Jmg",
        "colab": {
          "base_uri": "https://localhost:8080/"
        },
        "outputId": "9f1a38c3-32d0-455a-8d01-0b635cea622c"
      },
      "execution_count": null,
      "outputs": [
        {
          "output_type": "execute_result",
          "data": {
            "text/plain": [
              "True"
            ]
          },
          "metadata": {},
          "execution_count": 11
        }
      ]
    },
    {
      "cell_type": "markdown",
      "source": [
        "Uma forma mais dinâmica de trabalhar item por item de uma lista é utilizando um laço for para leitura elemento a elemento."
      ],
      "metadata": {
        "id": "6TaE1ijmBTCd"
      }
    },
    {
      "cell_type": "code",
      "source": [
        "for elemento in lista:\n",
        "  print(elemento)"
      ],
      "metadata": {
        "id": "2GWvY7F-3IVP",
        "colab": {
          "base_uri": "https://localhost:8080/"
        },
        "outputId": "377e91e2-8081-4922-dad5-5899584afd5f"
      },
      "execution_count": null,
      "outputs": [
        {
          "output_type": "stream",
          "name": "stdout",
          "text": [
            "Fabrício Daniel\n",
            "9.5\n",
            "9.0\n",
            "8.0\n",
            "True\n"
          ]
        }
      ]
    },
    {
      "cell_type": "markdown",
      "source": [
        "A nota `8.0` de Fabricio Daniel precisa ser ajustada pois ganhou 2 pontos em sua ultima nota por fazer um trabalho de turma. Então é necessária fazer uma troca no valor do índice `3` de `8.0` para `10.0`."
      ],
      "metadata": {
        "id": "Dh1_HnIVvucY"
      }
    },
    {
      "cell_type": "code",
      "source": [
        "lista[3]=10\n",
        "\n",
        "lista"
      ],
      "metadata": {
        "id": "ffFiIlji3G7H",
        "colab": {
          "base_uri": "https://localhost:8080/"
        },
        "outputId": "4900e8cf-680a-4e52-d8e9-ba1e54d1ef03"
      },
      "execution_count": null,
      "outputs": [
        {
          "output_type": "execute_result",
          "data": {
            "text/plain": [
              "['Fabrício Daniel', 9.5, 9.0, 10, True]"
            ]
          },
          "metadata": {},
          "execution_count": 15
        }
      ]
    },
    {
      "cell_type": "markdown",
      "source": [
        "conseguimos calcular a média do aluno a partir dos dados que temos"
      ],
      "metadata": {
        "id": "53XduzXkycAf"
      }
    },
    {
      "cell_type": "code",
      "source": [
        "media = (lista[1] + lista[2] + lista[3])/3\n",
        "media"
      ],
      "metadata": {
        "id": "fRy9twzI3GFI",
        "colab": {
          "base_uri": "https://localhost:8080/"
        },
        "outputId": "d790afb6-19c6-4609-9195-e9b8a1e06e85"
      },
      "execution_count": null,
      "outputs": [
        {
          "output_type": "execute_result",
          "data": {
            "text/plain": [
              "9.5"
            ]
          },
          "metadata": {},
          "execution_count": 16
        }
      ]
    },
    {
      "cell_type": "markdown",
      "source": [
        "## Manipulação de listas\n",
        "\n",
        "As listas são muito úteis em Python porque permitem armazenar e acessar uma coleção de itens de maneira organizada e rápida. Elas também oferecem muitos métodos úteis para manipular os itens armazenados, como adicionar, remover, classificar e pesquisar elementos."
      ],
      "metadata": {
        "id": "d-iYr10-y4qw"
      }
    },
    {
      "cell_type": "markdown",
      "source": [
        "#### Quantidade de elementos\n",
        "\n",
        "Usamos a função [`len()`](https://docs.python.org/3/library/functions.html#len) para descobrimos a quantidade de elementos de um conjunto."
      ],
      "metadata": {
        "id": "ZLqx9A97XVB_"
      }
    },
    {
      "cell_type": "code",
      "source": [
        "len(lista)"
      ],
      "metadata": {
        "id": "TOVGVubX3BI_",
        "colab": {
          "base_uri": "https://localhost:8080/"
        },
        "outputId": "3e3c1b33-7ab3-4763-9dda-89b3d11793c5"
      },
      "execution_count": null,
      "outputs": [
        {
          "output_type": "execute_result",
          "data": {
            "text/plain": [
              "5"
            ]
          },
          "metadata": {},
          "execution_count": 17
        }
      ]
    },
    {
      "cell_type": "markdown",
      "source": [
        "#### Partição\n",
        "\n",
        "A partição de listas por indexação em Python é uma técnica muito útil para selecionar um subconjunto de elementos de uma lista. Ela é feita usando a sintaxe `lista[inicio:fim]`, onde `inicio` é o índice do primeiro elemento a ser incluído na partição e `fim` é o índice do primeiro elemento a ser excluído da partição."
      ],
      "metadata": {
        "id": "Z5tpstlHJss3"
      }
    },
    {
      "cell_type": "code",
      "source": [
        "lista[1:4]"
      ],
      "metadata": {
        "id": "Gm9RaTnG28uC",
        "colab": {
          "base_uri": "https://localhost:8080/"
        },
        "outputId": "c729090d-3c42-43d4-932b-081df1e03a7e"
      },
      "execution_count": null,
      "outputs": [
        {
          "output_type": "execute_result",
          "data": {
            "text/plain": [
              "[9.5, 9.0, 10]"
            ]
          },
          "metadata": {},
          "execution_count": 18
        }
      ]
    },
    {
      "cell_type": "code",
      "source": [
        "lista[1:3]"
      ],
      "metadata": {
        "id": "LfitkLcQ26MO",
        "colab": {
          "base_uri": "https://localhost:8080/"
        },
        "outputId": "44944a20-d625-43c2-ebd9-d49ecb0d6e92"
      },
      "execution_count": null,
      "outputs": [
        {
          "output_type": "execute_result",
          "data": {
            "text/plain": [
              "[9.5, 9.0]"
            ]
          },
          "metadata": {},
          "execution_count": 19
        }
      ]
    },
    {
      "cell_type": "code",
      "source": [
        "lista[:3]"
      ],
      "metadata": {
        "id": "1-99Q09W28Bu",
        "colab": {
          "base_uri": "https://localhost:8080/"
        },
        "outputId": "b4bf9fdc-778e-4c8c-a92c-4331ea14f69d"
      },
      "execution_count": null,
      "outputs": [
        {
          "output_type": "execute_result",
          "data": {
            "text/plain": [
              "['Fabrício Daniel', 9.5, 9.0]"
            ]
          },
          "metadata": {},
          "execution_count": 20
        }
      ]
    },
    {
      "cell_type": "code",
      "source": [
        "lista[3:]"
      ],
      "metadata": {
        "id": "j23Uwma5226l",
        "colab": {
          "base_uri": "https://localhost:8080/"
        },
        "outputId": "003820b2-ddc8-472e-924c-932c3a15aa74"
      },
      "execution_count": null,
      "outputs": [
        {
          "output_type": "execute_result",
          "data": {
            "text/plain": [
              "[10, True]"
            ]
          },
          "metadata": {},
          "execution_count": 21
        }
      ]
    },
    {
      "cell_type": "code",
      "source": [
        "lista[:]"
      ],
      "metadata": {
        "id": "zfMrd28_21_q",
        "colab": {
          "base_uri": "https://localhost:8080/"
        },
        "outputId": "95422938-5fb8-4331-b5a0-c8d6ee9807db"
      },
      "execution_count": null,
      "outputs": [
        {
          "output_type": "execute_result",
          "data": {
            "text/plain": [
              "['Fabrício Daniel', 9.5, 9.0, 10, True]"
            ]
          },
          "metadata": {},
          "execution_count": 22
        }
      ]
    },
    {
      "cell_type": "markdown",
      "source": [
        "#### [`append()`](https://docs.python.org/3/tutorial/datastructures.html#:~:text=of%20list%20objects%3A-,list.append(x),-Add%20an%20item)\n",
        "\n",
        "Adiciona um elemento ao final da lista."
      ],
      "metadata": {
        "id": "O0RRyabkRzZC"
      }
    },
    {
      "cell_type": "code",
      "source": [
        "lista.append(f'Média: {media}')\n",
        "lista"
      ],
      "metadata": {
        "id": "Sr2BasZE20qF",
        "colab": {
          "base_uri": "https://localhost:8080/"
        },
        "outputId": "71f54111-13c3-4b1c-96ad-26c63e73245e"
      },
      "execution_count": null,
      "outputs": [
        {
          "output_type": "execute_result",
          "data": {
            "text/plain": [
              "['Fabrício Daniel', 9.5, 9.0, 10, True, 'Média: 9.5']"
            ]
          },
          "metadata": {},
          "execution_count": 23
        }
      ]
    },
    {
      "cell_type": "markdown",
      "source": [
        "#### [`extend()`](https://docs.python.org/3/tutorial/datastructures.html#:~:text=list.extend(iterable))\n",
        "\n",
        "Adiciona vários elementos ao final da lista.\n",
        "\n",
        "Adicionaremos as notas `[10.0,8.0,9.0]` na lista do Fabricio Daniel"
      ],
      "metadata": {
        "id": "uQV91XMsUOJD"
      }
    },
    {
      "cell_type": "code",
      "source": [
        "lista.extend([10.0, 8.0, 9.0])\n",
        "lista"
      ],
      "metadata": {
        "id": "b8a6wX2w2zrs",
        "colab": {
          "base_uri": "https://localhost:8080/"
        },
        "outputId": "9de56adf-3c5d-4042-a273-ce7f8d2bcd52"
      },
      "execution_count": null,
      "outputs": [
        {
          "output_type": "execute_result",
          "data": {
            "text/plain": [
              "['Fabrício Daniel', 9.5, 9.0, 10, True, 'Média: 9.5', 10.0, 8.0, 9.0]"
            ]
          },
          "metadata": {},
          "execution_count": 24
        }
      ]
    },
    {
      "cell_type": "markdown",
      "source": [
        "*Isso não é possivel ser feito com o* `append`."
      ],
      "metadata": {
        "id": "IVJvkTwNUk6M"
      }
    },
    {
      "cell_type": "code",
      "source": [
        "lista.append([10.0, 8.0, 9.0])\n",
        "lista"
      ],
      "metadata": {
        "id": "DyT9kWkB2yeB",
        "colab": {
          "base_uri": "https://localhost:8080/"
        },
        "outputId": "50a8ae12-9b1f-4488-8134-595232fb1a6e"
      },
      "execution_count": null,
      "outputs": [
        {
          "output_type": "execute_result",
          "data": {
            "text/plain": [
              "['Fabrício Daniel',\n",
              " 9.5,\n",
              " 9.0,\n",
              " 10,\n",
              " True,\n",
              " 'Média: 9.5',\n",
              " 10.0,\n",
              " 8.0,\n",
              " 9.0,\n",
              " [10.0, 8.0, 9.0],\n",
              " [10.0, 8.0, 9.0]]"
            ]
          },
          "metadata": {},
          "execution_count": 26
        }
      ]
    },
    {
      "cell_type": "markdown",
      "source": [
        "#### [`remove()`](https://docs.python.org/3/tutorial/datastructures.html#:~:text=append(x).-,list.remove(x),-Remove%20the%20first)\n",
        "\n",
        "Remove um elemento específico da lista."
      ],
      "metadata": {
        "id": "dPGM5gpyUX1z"
      }
    },
    {
      "cell_type": "code",
      "source": [
        "lista.remove([10.0, 8.0, 9.0])\n",
        "lista"
      ],
      "metadata": {
        "id": "QgXraxZL2xZN",
        "colab": {
          "base_uri": "https://localhost:8080/"
        },
        "outputId": "572542ea-fbd5-4ef6-f860-e8976ba436f6"
      },
      "execution_count": null,
      "outputs": [
        {
          "output_type": "execute_result",
          "data": {
            "text/plain": [
              "['Fabrício Daniel', 9.5, 9.0, 10, True, 'Média: 9.5', 10.0, 8.0, 9.0]"
            ]
          },
          "metadata": {},
          "execution_count": 28
        }
      ]
    },
    {
      "cell_type": "markdown",
      "source": [
        "## Dicionário"
      ],
      "metadata": {
        "id": "Rc22Vc08YDZ2"
      }
    },
    {
      "cell_type": "markdown",
      "source": [
        "Os dicionários são um tipo de estrutura de dados que armazenam pares de *chave-valor*. Eles são delimitados por chaves `{}` e os pares *chave-valor* são separados por vírgulas.\n",
        "\n",
        "```\n",
        "dicionário = {chave: valor}\n",
        "```\n",
        "\n",
        "A **chave** é um elemento único que identifica um valor no dicionário, enquanto o **valor** é o item que é armazenado para a chave. As chaves e os valores podem ser de **qualquer tipo de dado**.\n",
        "\n",
        "Os dicionários são úteis para armazenar e acessar dados de maneira organizada e rápida. Eles são um tipo de conjunto de elementos em Python, pois armazenam uma coleção de itens."
      ],
      "metadata": {
        "id": "PJ-cCKPjeWxL"
      }
    },
    {
      "cell_type": "code",
      "source": [
        "dicionario = {'chave_1':1,\n",
        "              'chave_2':2}\n",
        "\n",
        "dicionario"
      ],
      "metadata": {
        "id": "fO6BSSP02lPY",
        "colab": {
          "base_uri": "https://localhost:8080/"
        },
        "outputId": "61d350f8-9633-4d87-d809-ef906395816d"
      },
      "execution_count": null,
      "outputs": [
        {
          "output_type": "execute_result",
          "data": {
            "text/plain": [
              "{'chave_1': 1, 'chave_2': 2}"
            ]
          },
          "metadata": {},
          "execution_count": 29
        }
      ]
    },
    {
      "cell_type": "markdown",
      "source": [
        "---\n",
        "**Situação:**\n",
        "\n",
        "Vamos criar um conjunto de dados com informações de matricula de um estudante. Os dados são os seguintes:\n",
        "\n",
        "- matricula: 2000168933\n",
        "- dia de cadastro: 25\n",
        "- mês de cadastro: 10\n",
        "- turma: 2E"
      ],
      "metadata": {
        "id": "_JbQ3KMKfkXU"
      }
    },
    {
      "cell_type": "code",
      "source": [
        "cadastro = {'matricula':2000168933,\n",
        "            'dia de cadastro': 25,\n",
        "            'mes de cadastro':10,\n",
        "            'Turma': '2E'}\n",
        "\n",
        "cadastro"
      ],
      "metadata": {
        "id": "Q1SKuEXQ2jkL",
        "colab": {
          "base_uri": "https://localhost:8080/"
        },
        "outputId": "f34a5c8a-c994-4dec-bb40-2a798d6d3030"
      },
      "execution_count": null,
      "outputs": [
        {
          "output_type": "execute_result",
          "data": {
            "text/plain": [
              "{'matricula': 2000168933,\n",
              " 'dia de cadastro': 25,\n",
              " 'mes de cadastro': 10,\n",
              " 'Turma': '2E'}"
            ]
          },
          "metadata": {},
          "execution_count": 32
        }
      ]
    },
    {
      "cell_type": "code",
      "source": [
        "cadastro['matricula']"
      ],
      "metadata": {
        "id": "H7oT2M_a2jY5",
        "colab": {
          "base_uri": "https://localhost:8080/"
        },
        "outputId": "437721fb-a29c-43ab-c53b-d74f7eae45f0"
      },
      "execution_count": null,
      "outputs": [
        {
          "output_type": "execute_result",
          "data": {
            "text/plain": [
              "2000168933"
            ]
          },
          "metadata": {},
          "execution_count": 34
        }
      ]
    },
    {
      "cell_type": "code",
      "source": [
        "cadastro['Turma']"
      ],
      "metadata": {
        "id": "Mv8we96a2jPR",
        "colab": {
          "base_uri": "https://localhost:8080/",
          "height": 35
        },
        "outputId": "1d1f7c42-f719-46b2-c762-f87556d14eaf"
      },
      "execution_count": null,
      "outputs": [
        {
          "output_type": "execute_result",
          "data": {
            "text/plain": [
              "'2E'"
            ],
            "application/vnd.google.colaboratory.intrinsic+json": {
              "type": "string"
            }
          },
          "metadata": {},
          "execution_count": 36
        }
      ]
    },
    {
      "cell_type": "markdown",
      "source": [
        "É possível substituir os valores dentro de uma chave. Por exemplo, recebemos a informação que a turma do estudante que cadastramos foi trocada para `'2G'` e agora precisamos trocar o valor da chave `'turma'`."
      ],
      "metadata": {
        "id": "8ex5pt2ykDd2"
      }
    },
    {
      "cell_type": "code",
      "source": [
        "cadastro['Turma'] = '2G'\n",
        "cadastro"
      ],
      "metadata": {
        "id": "WqZPkVop2hq-",
        "colab": {
          "base_uri": "https://localhost:8080/"
        },
        "outputId": "4707f4e8-5f9b-4ad3-9fbf-2a2d80fa3d30"
      },
      "execution_count": null,
      "outputs": [
        {
          "output_type": "execute_result",
          "data": {
            "text/plain": [
              "{'matricula': 2000168933,\n",
              " 'dia de cadastro': 25,\n",
              " 'mes de cadastro': 10,\n",
              " 'Turma': '2G'}"
            ]
          },
          "metadata": {},
          "execution_count": 38
        }
      ]
    },
    {
      "cell_type": "markdown",
      "source": [
        "Podemos também adicionar outros dados ao dicionário. Vamos adicionar a informação de modalidade de ensino, nosso estudante atuará inicialmente em modalidade EAD.\n",
        "\n",
        "Então iremos definir uma chave chamada `'modalidade'` e o valor `'EAD'`."
      ],
      "metadata": {
        "id": "wB0qRb56mQvv"
      }
    },
    {
      "cell_type": "code",
      "source": [
        "cadastro['Modalidade'] = 'EAD'\n",
        "\n",
        "cadastro"
      ],
      "metadata": {
        "id": "YDbsuNbw2gb2",
        "colab": {
          "base_uri": "https://localhost:8080/"
        },
        "outputId": "4f9756c7-762f-4c15-9793-47fb29c52d26"
      },
      "execution_count": null,
      "outputs": [
        {
          "output_type": "execute_result",
          "data": {
            "text/plain": [
              "{'matricula': 2000168933,\n",
              " 'dia de cadastro': 25,\n",
              " 'mes de cadastro': 10,\n",
              " 'Turma': '2G',\n",
              " 'Modalidade': 'EAD'}"
            ]
          },
          "metadata": {},
          "execution_count": 39
        }
      ]
    },
    {
      "cell_type": "markdown",
      "source": [
        "## Aprofundando em dicionários"
      ],
      "metadata": {
        "id": "LJ3o_inroxg_"
      }
    },
    {
      "cell_type": "markdown",
      "source": [
        "#### [`pop()`](https://python-reference.readthedocs.io/en/latest/docs/dict/pop.html)\n",
        "Remove um item de um dicionário e o retorna."
      ],
      "metadata": {
        "id": "2N3GLlkSpBiu"
      }
    },
    {
      "cell_type": "code",
      "source": [
        "cadastro.pop('Turma')"
      ],
      "metadata": {
        "id": "NJKPaN0N2d2G",
        "colab": {
          "base_uri": "https://localhost:8080/",
          "height": 35
        },
        "outputId": "b17036b2-64bb-428f-d77e-58587a5b98dd"
      },
      "execution_count": null,
      "outputs": [
        {
          "output_type": "execute_result",
          "data": {
            "text/plain": [
              "'2G'"
            ],
            "application/vnd.google.colaboratory.intrinsic+json": {
              "type": "string"
            }
          },
          "metadata": {},
          "execution_count": 40
        }
      ]
    },
    {
      "cell_type": "code",
      "source": [
        "cadastro"
      ],
      "metadata": {
        "id": "7XZ7Rl4R2cSF",
        "colab": {
          "base_uri": "https://localhost:8080/"
        },
        "outputId": "a3508e0a-2a0e-4f4f-b14d-130e4bc30517"
      },
      "execution_count": null,
      "outputs": [
        {
          "output_type": "execute_result",
          "data": {
            "text/plain": [
              "{'matricula': 2000168933,\n",
              " 'dia de cadastro': 25,\n",
              " 'mes de cadastro': 10,\n",
              " 'Modalidade': 'EAD'}"
            ]
          },
          "metadata": {},
          "execution_count": 41
        }
      ]
    },
    {
      "cell_type": "markdown",
      "source": [
        "#### [`items()`](https://python-reference.readthedocs.io/en/latest/docs/dict/items.html)\n",
        "Retorna uma lista de pares chave-valor do dicionário."
      ],
      "metadata": {
        "id": "sYZGvJJYrW_y"
      }
    },
    {
      "cell_type": "code",
      "source": [
        "cadastro.items()"
      ],
      "metadata": {
        "id": "rWJG9aZ72a0D",
        "colab": {
          "base_uri": "https://localhost:8080/"
        },
        "outputId": "b24b37cc-a7bc-4250-a7c9-81f663c18db6"
      },
      "execution_count": null,
      "outputs": [
        {
          "output_type": "execute_result",
          "data": {
            "text/plain": [
              "dict_items([('matricula', 2000168933), ('dia de cadastro', 25), ('mes de cadastro', 10), ('Modalidade', 'EAD')])"
            ]
          },
          "metadata": {},
          "execution_count": 42
        }
      ]
    },
    {
      "cell_type": "markdown",
      "source": [
        "#### [`keys()`](https://python-reference.readthedocs.io/en/latest/docs/dict/keys.html)\n",
        "Retorna uma lista das chaves do dicionário."
      ],
      "metadata": {
        "id": "Lb0utNFGrZBY"
      }
    },
    {
      "cell_type": "code",
      "source": [
        "cadastro.keys()"
      ],
      "metadata": {
        "id": "H1WmQRaR2Z-l",
        "colab": {
          "base_uri": "https://localhost:8080/"
        },
        "outputId": "5d9c696b-8e7a-4521-e292-9e847b654230"
      },
      "execution_count": null,
      "outputs": [
        {
          "output_type": "execute_result",
          "data": {
            "text/plain": [
              "dict_keys(['matricula', 'dia de cadastro', 'mes de cadastro', 'Modalidade'])"
            ]
          },
          "metadata": {},
          "execution_count": 43
        }
      ]
    },
    {
      "cell_type": "markdown",
      "source": [
        "#### [`values()`](https://python-reference.readthedocs.io/en/latest/docs/dict/values.html)\n",
        "Retorna uma lista dos valores do dicionário."
      ],
      "metadata": {
        "id": "qKyu3bf9rbtX"
      }
    },
    {
      "cell_type": "code",
      "source": [
        "cadastro.values()"
      ],
      "metadata": {
        "id": "E5pgDcfQ2ZHH",
        "colab": {
          "base_uri": "https://localhost:8080/"
        },
        "outputId": "ad8e0d99-f0cd-4976-c7d5-83ecb7f49603"
      },
      "execution_count": null,
      "outputs": [
        {
          "output_type": "execute_result",
          "data": {
            "text/plain": [
              "dict_values([2000168933, 25, 10, 'EAD'])"
            ]
          },
          "metadata": {},
          "execution_count": 44
        }
      ]
    },
    {
      "cell_type": "markdown",
      "source": [
        "### Leitura de valores com `for`"
      ],
      "metadata": {
        "id": "e3XVjR8Frp75"
      }
    },
    {
      "cell_type": "code",
      "source": [
        "for chaves in cadastro.keys():\n",
        "  print(cadastro[chaves])"
      ],
      "metadata": {
        "id": "iwIY3hwV2XL5",
        "colab": {
          "base_uri": "https://localhost:8080/"
        },
        "outputId": "5b5c095c-2fe5-44c8-d1c1-018f16f93be4"
      },
      "execution_count": null,
      "outputs": [
        {
          "output_type": "stream",
          "name": "stdout",
          "text": [
            "2000168933\n",
            "25\n",
            "10\n",
            "EAD\n"
          ]
        }
      ]
    },
    {
      "cell_type": "code",
      "source": [
        "for valores in cadastro.values():\n",
        "  print(valores)"
      ],
      "metadata": {
        "id": "KlEbYjKN2XCy",
        "colab": {
          "base_uri": "https://localhost:8080/"
        },
        "outputId": "e506dcd9-9f1f-439b-91ac-e0e5717a89c0"
      },
      "execution_count": null,
      "outputs": [
        {
          "output_type": "stream",
          "name": "stdout",
          "text": [
            "2000168933\n",
            "25\n",
            "10\n",
            "EAD\n"
          ]
        }
      ]
    },
    {
      "cell_type": "code",
      "source": [
        "for chaves, valores in cadastro.items():\n",
        "  print(chaves, valores)"
      ],
      "metadata": {
        "id": "aiCgk-o42W6u",
        "colab": {
          "base_uri": "https://localhost:8080/"
        },
        "outputId": "51d6ab97-a6de-4fe7-ae9c-46e023c1875c"
      },
      "execution_count": null,
      "outputs": [
        {
          "output_type": "stream",
          "name": "stdout",
          "text": [
            "matricula 2000168933\n",
            "dia de cadastro 25\n",
            "mes de cadastro 10\n",
            "Modalidade EAD\n"
          ]
        }
      ]
    },
    {
      "cell_type": "markdown",
      "source": [
        "## **Desafio: Hora da Prática**"
      ],
      "metadata": {
        "id": "GjafdYFdI36f"
      }
    },
    {
      "cell_type": "markdown",
      "source": [
        "1) Faça um programa que tenha a seguinte lista contendo os valores de gastos de uma empresa de papel [2172.54, 3701.35, 3518.09, 3456.61, 3249.38, 2840.82, 3891.45, 3075.26, 2317.64, 3219.08]. Com esses valores, faça um programa que calcule a média de gastos. Dica: use as funções built-in sum() e len()."
      ],
      "metadata": {
        "id": "BDd8p_jsI_Mp"
      }
    },
    {
      "cell_type": "code",
      "source": [
        "gastos_DM = [2172.54, 3701.35, 3518.09, 3456.61, 3249.38, 2840.82, 3891.45, 3075.26, 2317.64, 3219.08]\n",
        "\n",
        "media = sum(gastos_DM)/len(gastos_DM)\n",
        "\n",
        "media\n"
      ],
      "metadata": {
        "colab": {
          "base_uri": "https://localhost:8080/"
        },
        "id": "CiepoEqvI8Kp",
        "outputId": "94931304-cf9a-454d-9316-4c2b1b93a230"
      },
      "execution_count": null,
      "outputs": [
        {
          "output_type": "execute_result",
          "data": {
            "text/plain": [
              "3144.222"
            ]
          },
          "metadata": {},
          "execution_count": 62
        }
      ]
    },
    {
      "cell_type": "markdown",
      "source": [
        "2) Com os mesmos dados da questão anterior, defina quantas compras foram realizadas acima de 3000 reais e calcule a porcentagem quanto ao total de compras."
      ],
      "metadata": {
        "id": "XDb00k4AJZjd"
      }
    },
    {
      "cell_type": "code",
      "source": [
        "gastos_DM = [2172.54, 3701.35, 3518.09, 3456.61, 3249.38, 2840.82, 3891.45, 3075.26, 2317.64, 3219.08]\n",
        "\n",
        "total_3000 = 0\n",
        "\n",
        "for compras in gastos_DM:\n",
        "  if compras >= 3000:\n",
        "    total_3000 += 1\n",
        "\n",
        "print(f'Porcentagem de compras acima de R$3000,00: {(total_3000/len(gastos_DM))*100}%')"
      ],
      "metadata": {
        "colab": {
          "base_uri": "https://localhost:8080/"
        },
        "id": "AsbFI2jWJY6n",
        "outputId": "d925e502-2a71-4d62-ff27-e1824222492e"
      },
      "execution_count": null,
      "outputs": [
        {
          "output_type": "stream",
          "name": "stdout",
          "text": [
            "Porcentagem de compras acima de R$3000,00: 70.0%\n"
          ]
        }
      ]
    },
    {
      "cell_type": "markdown",
      "source": [
        "3) Faça um código que colete em uma lista 5 números inteiros quaisquer e imprima a lista. Exemplo: [1,4,7,2,4]."
      ],
      "metadata": {
        "id": "Zmcy8BsUKSxP"
      }
    },
    {
      "cell_type": "code",
      "source": [
        "lista = []\n",
        "\n",
        "for i in range (0, 5, 1):\n",
        "  i = int(input('Insira um número inteiro para adicionar à lista: '))\n",
        "  lista.append(i)\n",
        "\n",
        "lista"
      ],
      "metadata": {
        "colab": {
          "base_uri": "https://localhost:8080/"
        },
        "id": "xXnUVx74KT3X",
        "outputId": "06398f6e-6f72-4cb2-dcf7-4d5f02a74217"
      },
      "execution_count": null,
      "outputs": [
        {
          "name": "stdout",
          "output_type": "stream",
          "text": [
            "Insira um número inteiro para adicionar à lista: 1\n",
            "Insira um número inteiro para adicionar à lista: 2\n",
            "Insira um número inteiro para adicionar à lista: 3\n",
            "Insira um número inteiro para adicionar à lista: 4\n",
            "Insira um número inteiro para adicionar à lista: 5\n"
          ]
        },
        {
          "output_type": "execute_result",
          "data": {
            "text/plain": [
              "[1, 2, 3, 4, 5]"
            ]
          },
          "metadata": {},
          "execution_count": 68
        }
      ]
    },
    {
      "cell_type": "markdown",
      "source": [
        "4) Colete novamente 5 inteiros e imprima a lista em ordem inversa à enviada"
      ],
      "metadata": {
        "id": "Uhmua8OQLCtH"
      }
    },
    {
      "cell_type": "code",
      "source": [
        "lista = []\n",
        "\n",
        "for i in range (0, 5, 1):\n",
        "  i = int(input('Insira um número inteiro para adicionar à lista: '))\n",
        "  lista.append(i)\n",
        "\n",
        "lista.reverse() #Também poderia ter sido usado: print(f'lista: {lista[::-1]}')\n",
        "\n",
        "\n",
        "lista"
      ],
      "metadata": {
        "colab": {
          "base_uri": "https://localhost:8080/"
        },
        "id": "6u2YKXB-LGYE",
        "outputId": "46d234fb-5bed-465c-e5f6-3d6462bd9fcc"
      },
      "execution_count": null,
      "outputs": [
        {
          "name": "stdout",
          "output_type": "stream",
          "text": [
            "Insira um número inteiro para adicionar à lista: 1\n",
            "Insira um número inteiro para adicionar à lista: 2\n",
            "Insira um número inteiro para adicionar à lista: 3\n",
            "Insira um número inteiro para adicionar à lista: 4\n",
            "Insira um número inteiro para adicionar à lista: 5\n"
          ]
        },
        {
          "output_type": "execute_result",
          "data": {
            "text/plain": [
              "[5, 4, 3, 2, 1]"
            ]
          },
          "metadata": {},
          "execution_count": 69
        }
      ]
    },
    {
      "cell_type": "markdown",
      "source": [
        "5) Faça um programa que, ao inserir um número qualquer, cria uma lista contendo todos os números primos entre 1 e o número digitado."
      ],
      "metadata": {
        "id": "Uvi4dceILfJj"
      }
    },
    {
      "cell_type": "code",
      "source": [
        "numero = int(input('Digite um número inteiro: '))\n",
        "\n",
        "lista_primos = []\n",
        "\n",
        "for num in range(2, numero):\n",
        "\n",
        "  primo = True\n",
        "\n",
        "  for teste_divisiveis in range(2, num):\n",
        "    if num % teste_divisiveis == 0:\n",
        "\n",
        "      primo = False\n",
        "      break\n",
        "\n",
        "  if primo:\n",
        "    lista_primos.append(num)\n",
        "\n",
        "print(f'Lista de números primos: {lista_primos}')"
      ],
      "metadata": {
        "colab": {
          "base_uri": "https://localhost:8080/"
        },
        "id": "wShnX9SMLiiN",
        "outputId": "6695cb31-b5e2-4ec5-8b60-b7080a45f52d"
      },
      "execution_count": null,
      "outputs": [
        {
          "output_type": "stream",
          "name": "stdout",
          "text": [
            "Digite um número inteiro: 10\n",
            "Lista de números primos: [2, 3, 5, 7]\n"
          ]
        }
      ]
    },
    {
      "cell_type": "markdown",
      "source": [
        "6) Escreva um programa que peça uma data informando o dia, mês e ano e determine se ela é válida para uma análise."
      ],
      "metadata": {
        "id": "l5vWTO7KOafj"
      }
    },
    {
      "cell_type": "code",
      "source": [
        "dia = int(input('Digite o dia: '))\n",
        "mes = int(input('Digite o mês: '))\n",
        "ano = int(input('Digite o ano: '))\n",
        "\n",
        "\n",
        "if mes == 2:\n",
        "\n",
        "  if ano % 4 == 0 and (ano % 400 == 0 or ano % 100 != 0):\n",
        "    dias_fevereiro = 29\n",
        "  else:\n",
        "    dias_fevereiro = 28\n",
        "\n",
        "  if dia >= 1 and dia <= dias_fevereiro:\n",
        "    print('Data válida')\n",
        "  else:\n",
        "    print('Data inválida')\n",
        "\n",
        "elif mes in [1, 3, 5, 7, 8, 10, 12]:\n",
        "  if dia >= 1 and dia <= 31:\n",
        "    print('Data válida')\n",
        "  else:\n",
        "    print('Data inválida')\n",
        "\n",
        "elif mes in [4, 6, 9, 11]:\n",
        "  if dia >= 1 and dia <= 30:\n",
        "    print('Data válida')\n",
        "  else:\n",
        "    print('Data inválida')\n",
        "\n",
        "else:\n",
        "  print('Data inválida')"
      ],
      "metadata": {
        "colab": {
          "base_uri": "https://localhost:8080/"
        },
        "id": "UflEQ2v8OdSh",
        "outputId": "ec422d97-65c2-4085-9e9e-3acae849dc7c"
      },
      "execution_count": null,
      "outputs": [
        {
          "output_type": "stream",
          "name": "stdout",
          "text": [
            "Digite o dia: 10\n",
            "Digite o mês: 2\n",
            "Digite o ano: 2024\n",
            "Data válida\n"
          ]
        }
      ]
    },
    {
      "cell_type": "markdown",
      "source": [
        "7) Para um estudo envolvendo o nível de multiplicação de bactérias em uma colônia, foi coletado o número de bactérias por dia (em milhares) e pode ser observado a seguir: [1.2, 2.1, 3.3, 5.0, 7.8, 11.3, 16.6, 25.1, 37.8, 56.9]. Tendo esses valores, faça um código que gere uma lista contendo o percentual de crescimento de bactérias por dia, comparando o número de bactérias em cada dia com o número de bactérias do dia anterior. Dica: para calcular o percentual de crescimento usamos a seguinte equação: 100 * (amostra_atual - amostra_passada) / (amostra_passada)."
      ],
      "metadata": {
        "id": "NyjBLrUxPW8z"
      }
    },
    {
      "cell_type": "code",
      "source": [
        "bacterias_colonia = [1.2, 2.1, 3.3, 5.0, 7.8, 11.3, 16.6, 25.1, 37.8, 56.9]\n",
        "\n",
        "porcentagem_crescimento = []\n",
        "\n",
        "for i in range(1, len(bacterias_colonia)):\n",
        "\n",
        "  porcentagem = 100 * (bacterias_colonia[i] - bacterias_colonia[i-1]) / (bacterias_colonia[i-1])\n",
        "\n",
        "  porcentagem_crescimento.append(porcentagem)\n",
        "\n",
        "print(f'Porcentagens de crescimento:\\n{porcentagem_crescimento}')"
      ],
      "metadata": {
        "colab": {
          "base_uri": "https://localhost:8080/"
        },
        "id": "2QzJCVJzPady",
        "outputId": "47689de8-87c7-42ab-dc0a-07886c59c12c"
      },
      "execution_count": null,
      "outputs": [
        {
          "output_type": "stream",
          "name": "stdout",
          "text": [
            "Porcentagens de crescimento:\n",
            "[75.00000000000001, 57.142857142857125, 51.51515151515153, 56.0, 44.87179487179489, 46.90265486725664, 51.20481927710843, 50.59760956175297, 50.52910052910054]\n"
          ]
        }
      ]
    },
    {
      "cell_type": "markdown",
      "source": [
        "8) Para uma seleção de produtos alimentícios, precisamos separar o conjunto de IDs dados por números inteiros sabendo que os produtos com ID par são doces e os com ID ímpar são amargos. Monte um código que colete 10 IDs. Depois, calcule e mostre a quantidade de produtos doces e amargos."
      ],
      "metadata": {
        "id": "sRq9-I1bPdB0"
      }
    },
    {
      "cell_type": "code",
      "source": [
        "ids = []\n",
        "\n",
        "doce = 0\n",
        "amargo = 0\n",
        "\n",
        "\n",
        "for i in range(0,10):\n",
        "\n",
        "  ids.append(int(input(f'Digite o {i+1}° ID: ')))\n",
        "\n",
        "\n",
        "for id in ids:\n",
        "  if id % 2 == 0:\n",
        "    doce += 1\n",
        "  else:\n",
        "    amargo += 1\n",
        "\n",
        "\n",
        "print(f'Quantidade de produtos doces: {doce}')\n",
        "print(f'Quantidade de produtos amargos: {amargo}')"
      ],
      "metadata": {
        "colab": {
          "base_uri": "https://localhost:8080/"
        },
        "id": "oq32HUNTPf1H",
        "outputId": "415f6a27-bac7-478e-8d1c-43863358fa70"
      },
      "execution_count": null,
      "outputs": [
        {
          "output_type": "stream",
          "name": "stdout",
          "text": [
            "Digite o 1° ID: 11\n",
            "Digite o 2° ID: 12\n",
            "Digite o 3° ID: 13\n",
            "Digite o 4° ID: 14\n",
            "Digite o 5° ID: 15\n",
            "Digite o 6° ID: 16\n",
            "Digite o 7° ID: 17\n",
            "Digite o 8° ID: 18\n",
            "Digite o 9° ID: 19\n",
            "Digite o 10° ID: 20\n",
            "Quantidade de produtos doces: 5\n",
            "Quantidade de produtos amargos: 5\n"
          ]
        }
      ]
    },
    {
      "cell_type": "markdown",
      "source": [
        "9) Desenvolva um programa que informa a nota de um(a) aluno(a) de acordo com suas respostas. Ele deve pedir a resposta desse(a) aluno(a) para cada questão e é preciso verificar se a resposta foi igual ao gabarito. Cada questão vale um ponto e existem as alternativas A, B, C ou D."
      ],
      "metadata": {
        "id": "ppxFDEwLPemH"
      }
    },
    {
      "cell_type": "code",
      "source": [
        "\n",
        "respostas = []\n",
        "\n",
        "gabarito = ['D', 'A', 'C', 'B', 'A', 'D', 'C', 'C', 'A', 'B']\n",
        "nota = 0\n",
        "\n",
        "for i in range(0, 10):\n",
        "  respostas.append(input(f'Insira a resposta da questão {i + 1}: ').upper())\n",
        "\n",
        "\n",
        "for i in range(0,10):\n",
        "  if respostas[i] == gabarito[i]:\n",
        "    nota += 1\n",
        "\n",
        "\n",
        "print(f'Nota final: {nota}')"
      ],
      "metadata": {
        "colab": {
          "base_uri": "https://localhost:8080/"
        },
        "id": "6Npk0ruDPgje",
        "outputId": "25eeb3fc-8ca0-456c-8c59-2ace2de48fc2"
      },
      "execution_count": null,
      "outputs": [
        {
          "output_type": "stream",
          "name": "stdout",
          "text": [
            "Insira a resposta da questão 1: D\n",
            "Insira a resposta da questão 2: B\n",
            "Insira a resposta da questão 3: C\n",
            "Insira a resposta da questão 4: B\n",
            "Insira a resposta da questão 5: A\n",
            "Insira a resposta da questão 6: D\n",
            "Insira a resposta da questão 7: C\n",
            "Insira a resposta da questão 8: A\n",
            "Insira a resposta da questão 9: D\n",
            "Insira a resposta da questão 10: D\n",
            "Nota final: 6\n"
          ]
        }
      ]
    },
    {
      "cell_type": "markdown",
      "source": [
        "10) Um instituto de meteorologia deseja fazer um estudo de temperatura média de cada mês do ano. Para isso, você precisa fazer um código que colete e armazene essas temperaturas médias em uma lista. Depois, calcule a média anual das temperaturas e mostre todas as temperaturas acima da média anual e em que mês elas ocorreram, mostrando os meses por extenso (Janeiro, Fevereiro, etc.)."
      ],
      "metadata": {
        "id": "SXZT-eucPg2r"
      }
    },
    {
      "cell_type": "code",
      "source": [
        "temperaturas_mensais = []\n",
        "for i in range(0,12):\n",
        "  temperaturas_mensais.append(float(input(f'Digite a média de temperatura do mês {i+1}: ')))\n",
        "\n",
        "meses = ['Janeiro', 'Fevereiro', 'Março', 'Abril', 'Maio', 'Junho', 'Julho', 'Agosto', 'Setembro', 'Outubro', 'Novembro', 'Dezembro']\n",
        "\n",
        "media_anual = sum(temperaturas_mensais) / len(temperaturas_mensais)\n",
        "\n",
        "\n",
        "print('Temperaturas acima da média em: ')\n",
        "for i in range(0,12):\n",
        "\n",
        "  if temperaturas_mensais[i] > media_anual:\n",
        "\n",
        "    print(meses[i])"
      ],
      "metadata": {
        "colab": {
          "base_uri": "https://localhost:8080/"
        },
        "id": "K9R6gpfKPifY",
        "outputId": "8800892f-9378-4e55-bd83-8f372a9d85f9"
      },
      "execution_count": null,
      "outputs": [
        {
          "output_type": "stream",
          "name": "stdout",
          "text": [
            "Digite a média de temperatura do mês 1: 30\n",
            "Digite a média de temperatura do mês 2: 20\n",
            "Digite a média de temperatura do mês 3: 12\n",
            "Digite a média de temperatura do mês 4: 30\n",
            "Digite a média de temperatura do mês 5: 23\n",
            "Digite a média de temperatura do mês 6: 25\n",
            "Digite a média de temperatura do mês 7: 29\n",
            "Digite a média de temperatura do mês 8: 27\n",
            "Digite a média de temperatura do mês 9: 29\n",
            "Digite a média de temperatura do mês 10: 30\n",
            "Digite a média de temperatura do mês 11: 12\n",
            "Digite a média de temperatura do mês 12: 14\n",
            "Temperaturas acima da média em: \n",
            "Janeiro\n",
            "Abril\n",
            "Junho\n",
            "Julho\n",
            "Agosto\n",
            "Setembro\n",
            "Outubro\n"
          ]
        }
      ]
    },
    {
      "cell_type": "markdown",
      "source": [
        "11) Uma empresa de e-commerce está interessada em analisar as vendas dos seus produtos. Os dados das vendas foram armazenados em um dicionário:\n",
        "\n",
        "{'Produto A': 300, 'Produto B': 80, 'Produto C': 60,\n",
        " 'Produto D': 200, 'Produto E': 250, 'Produto F': 30}\n",
        "\n",
        " Escreva um código que calcule o total de vendas e o produto mais vendido."
      ],
      "metadata": {
        "id": "fOonR2zWPi1J"
      }
    },
    {
      "cell_type": "code",
      "source": [
        "dados_vendas = {'Produto A': 300, 'Produto B': 80, 'Produto C': 60, 'Produto D': 200, 'Produto E': 250, 'Produto F': 30}\n",
        "\n",
        "\n",
        "total_vendas = 0\n",
        "produto_mais_vendido = ''\n",
        "unidades_produto_mais_vendido = 0\n",
        "\n",
        "\n",
        "for produto in dados_vendas.keys():\n",
        "\n",
        "  total_vendas += dados_vendas[produto]\n",
        "\n",
        "  if dados_vendas[produto] > unidades_produto_mais_vendido:\n",
        "    unidades_produto_mais_vendido = dados_vendas[produto]\n",
        "    produto_mais_vendido = produto\n",
        "\n",
        "print(f'Total de vendas é {total_vendas}')\n",
        "print(f'{produto_mais_vendido} é o mais vendido')"
      ],
      "metadata": {
        "colab": {
          "base_uri": "https://localhost:8080/"
        },
        "id": "fH1tP1N2PkoY",
        "outputId": "d4b7039f-1288-4b80-ca90-d8d648a77143"
      },
      "execution_count": null,
      "outputs": [
        {
          "output_type": "stream",
          "name": "stdout",
          "text": [
            "Total de vendas é 920\n",
            "Produto A é o mais vendido\n"
          ]
        }
      ]
    },
    {
      "cell_type": "markdown",
      "source": [
        "12) Uma pesquisa de mercado foi feita para decidir qual design de marca infantil mais agrada as crianças. A pesquisa foi feita e o votos computados podem ser observados abaixo:\n",
        "\n",
        "'''\n",
        "Tabela de votos da marca\n",
        "Design 1 - 1334 votos\n",
        "Design 2 - 982 votos\n",
        "Design 3 - 1751 votos\n",
        "Design 4 - 210 votos\n",
        "Design 5 - 1811 votos\n",
        "'''\n",
        "\n",
        "Adapte os dados fornecidos para uma estrutura de dicionário. A partir dele, informe o design vencedor e a porcentagem de votos recebidos."
      ],
      "metadata": {
        "id": "uCJ7XMWqPk4P"
      }
    },
    {
      "cell_type": "code",
      "source": [
        "votos = {'Design 1': 1334, 'Design 2': 982, 'Design 3': 1751, 'Design 4': 210, 'Design 5': 1811}\n",
        "\n",
        "\n",
        "total_votos = 0\n",
        "vencedor = ''\n",
        "voto_vencedor = 0\n",
        "\n",
        "\n",
        "for design, voto_desing in votos.items():\n",
        "\n",
        "  total_votos += voto_desing\n",
        "\n",
        "  if voto_desing > voto_vencedor:\n",
        "    voto_vencedor = voto_desing\n",
        "    vencedor = design\n",
        "\n",
        "porcentagem = 100 * (voto_vencedor) / (total_votos)\n",
        "\n",
        "print(f'{vencedor} é o vencedor: ')\n",
        "print(f'Porcentagem de votos: {porcentagem}%')"
      ],
      "metadata": {
        "colab": {
          "base_uri": "https://localhost:8080/"
        },
        "id": "ZJJaalLWPqx9",
        "outputId": "e68e69a8-ec5e-46ae-cd31-d9a7b4392c37"
      },
      "execution_count": null,
      "outputs": [
        {
          "output_type": "stream",
          "name": "stdout",
          "text": [
            "Design 5 é o vencedor: \n",
            "Porcentagem de votos: 29.747043363994745%\n"
          ]
        }
      ]
    },
    {
      "cell_type": "markdown",
      "source": [
        "13) As pessoas colaboradoras de um setor da empresa que você trabalha vão receber um abono correspondente a 10% do salário devido ao ótimo desempenho do time. O setor financeiro solicitou sua ajuda para a verificação das consequências financeiras que esse abono irá gerar nos recursos. Assim, foi encaminhada para você uma lista com os salários que receberão o abono: [1172, 1644, 2617, 5130, 5532, 6341, 6650, 7238, 7685, 7782, 7903]. O abono de cada colaborador(a) não pode ser inferior a 200. Em código, transforme cada um dos salários em chaves de um dicionário e o abono de cada salário no elemento. Depois, informe o total de gastos com o abono, quantos(as) colaboradores(as) receberam o abono mínimo e qual o maior valor de abono fornecido."
      ],
      "metadata": {
        "id": "MmyQqfFGPrUX"
      }
    },
    {
      "cell_type": "code",
      "source": [
        "salarios = [1172, 1644, 2617, 5130, 5532, 6341, 6650, 7238, 7685, 7782, 7903]\n",
        "\n",
        "dic_abonos = {}\n",
        "total_abono = 0\n",
        "abonos_minimo = 0\n",
        "maior_abono = 0\n",
        "\n",
        "for salario in salarios:\n",
        "\n",
        "  abono = salario * 0.1\n",
        "\n",
        "  if abono < 200:\n",
        "    abono = 200\n",
        "\n",
        "  dic_abonos[salario] = abono\n",
        "\n",
        "\n",
        "for abono in dic_abonos.values():\n",
        "\n",
        "  if abono == 200:\n",
        "    abonos_minimo += 1\n",
        "\n",
        "  if abono > maior_abono:\n",
        "    maior_abono = abono\n",
        "\n",
        "  total_abono += abono\n",
        "\n",
        "print(f'Abonos: {dic_abonos}')\n",
        "print(f'Total de gasto com abonos: {total_abono}')\n",
        "print(f'Número de funcionários que receberam o abono mínimo: {abonos_minimo}')\n",
        "print(f'Maior valor de abono: {maior_abono}')"
      ],
      "metadata": {
        "colab": {
          "base_uri": "https://localhost:8080/"
        },
        "id": "Itb7GLahPstZ",
        "outputId": "4f212f64-8dc8-408c-a1ca-4c4539c55c8d"
      },
      "execution_count": null,
      "outputs": [
        {
          "output_type": "stream",
          "name": "stdout",
          "text": [
            "Abonos: {1172: 200, 1644: 200, 2617: 261.7, 5130: 513.0, 5532: 553.2, 6341: 634.1, 6650: 665.0, 7238: 723.8000000000001, 7685: 768.5, 7782: 778.2, 7903: 790.3000000000001}\n",
            "Total de gasto com abonos: 6087.8\n",
            "Número de funcionários que receberam o abono mínimo: 2\n",
            "Maior valor de abono: 790.3000000000001\n"
          ]
        }
      ]
    },
    {
      "cell_type": "markdown",
      "source": [
        "14) Uma equipe de cientistas de dados está estudando a diversidade biológica em uma floresta. A equipe fez a coleta de informações sobre o número de espécies de plantas e animais em cada área dessa floresta e armazenou essas informações em um dicionário. Nele, a chave descreve a área dos dados e os valores nas listas correspondem às espécies de plantas e animais nas áreas, respectivamente.\n",
        "\n",
        "{'Área Norte': [2819, 7236],\n",
        " 'Área Leste': [1440, 9492],\n",
        " 'Área Sul': [5969, 7496],\n",
        " 'Área Oeste': [14446, 49688],\n",
        " 'Área Centro': [22558, 45148]}\n",
        "\n",
        " Escreva um código para calcular a média de espécies por área e identificar a área com a maior diversidade biológica. Dica: use as funções built-in sum() e len()."
      ],
      "metadata": {
        "id": "bTRnJdQQPtL_"
      }
    },
    {
      "cell_type": "code",
      "source": [
        "dados = {'Área Norte': [2819, 7236],\n",
        "         'Área Leste': [1440, 9492],\n",
        "         'Área Sul': [5969, 7496],\n",
        "         'Área Oeste': [14446, 49688],\n",
        "         'Área Centro': [22558, 45148]}\n",
        "\n",
        "soma_media = 0\n",
        "maior_diversidade = ''\n",
        "maior_soma = 0\n",
        "\n",
        "for area, especies in dados.items():\n",
        "\n",
        "  soma_especies = sum(especies)\n",
        "\n",
        "  media = soma_especies / len(especies)\n",
        "\n",
        "  print(f'A {area} tem a média de {media} espécies')\n",
        "\n",
        "  if soma_especies > maior_soma:\n",
        "      maior_soma = soma_especies\n",
        "      maior_diversidade = area\n",
        "\n",
        "  soma_media += media\n",
        "\n",
        "media_total = soma_media / len(dados)\n",
        "print(f'Média geral de espécies: {media_total}')\n",
        "print(f'Área com a maior diversidade biológica: {maior_diversidade}')"
      ],
      "metadata": {
        "colab": {
          "base_uri": "https://localhost:8080/"
        },
        "id": "nGiCk41sPwOU",
        "outputId": "3e82f00b-7680-48ba-9a33-817434b11340"
      },
      "execution_count": null,
      "outputs": [
        {
          "output_type": "stream",
          "name": "stdout",
          "text": [
            "A Área Norte tem a média de 5027.5 espécies\n",
            "A Área Leste tem a média de 5466.0 espécies\n",
            "A Área Sul tem a média de 6732.5 espécies\n",
            "A Área Oeste tem a média de 32067.0 espécies\n",
            "A Área Centro tem a média de 33853.0 espécies\n",
            "Média geral de espécies: 16629.2\n",
            "Área com a maior diversidade biológica: Área Centro\n"
          ]
        }
      ]
    },
    {
      "cell_type": "markdown",
      "source": [
        "15) O setor de RH da sua empresa te pediu uma ajuda para analisar as idades de colaboradores(as) de 4 setores da empresa. Para isso, foram fornecidos os seguintes dados:\n",
        "\n",
        "{'Setor A': [22, 26, 30, 30, 35, 38, 40, 56, 57, 65],\n",
        " 'Setor B': [22, 24, 26, 33, 41, 49, 50, 54, 60, 64],\n",
        " 'Setor C': [23, 26, 26, 29, 34, 35, 36, 41, 52, 56],\n",
        " 'Setor D': [19, 20, 25, 27, 34, 39, 42, 44, 50, 65]}\n",
        "\n",
        " Sabendo que cada setor tem 10 colaboradores(as), construa um código que calcule a média de idade de cada setor, a idade média geral entre todos os setores e quantas pessoas estão acima da idade média geral."
      ],
      "metadata": {
        "id": "tmOf68ONPwlb"
      }
    },
    {
      "cell_type": "code",
      "source": [
        "dados = {'Setor A': [22, 26, 30, 30, 35, 38, 40, 56, 57, 65],\n",
        "        'Setor B': [22, 24, 26, 33, 41, 49, 50, 54, 60, 64],\n",
        "        'Setor C': [23, 26, 26, 29, 34, 35, 36, 41, 52, 56],\n",
        "        'Setor D': [19, 20, 25, 27, 34, 39, 42, 44, 50, 65]}\n",
        "\n",
        "total_idades = 0\n",
        "\n",
        "for setor, idades in dados.items():\n",
        "\n",
        "  media_idade = sum(idades) / len(idades)\n",
        "\n",
        "  print(f'O {setor} tem a média de {media_idade}')\n",
        "\n",
        "  total_idades += sum(idades)\n",
        "\n",
        "media_total = total_idades / (len(idades) * len(dados))\n",
        "print(f'A média de idade geral é {media_total}')\n",
        "\n",
        "\n",
        "acima_media = 0\n",
        "\n",
        "for setor, idades in dados.items():\n",
        "\n",
        "  for id in idades:\n",
        "\n",
        "    if id > media_total:\n",
        "\n",
        "      acima_media += 1\n",
        "\n",
        "print(f'{acima_media} pessoas estão acima da idade média geral')"
      ],
      "metadata": {
        "colab": {
          "base_uri": "https://localhost:8080/"
        },
        "id": "fMlKatMsPzeZ",
        "outputId": "a5a12586-c5df-4193-9162-1744ec24bdb1"
      },
      "execution_count": null,
      "outputs": [
        {
          "output_type": "stream",
          "name": "stdout",
          "text": [
            "O Setor A tem a média de 39.9\n",
            "O Setor B tem a média de 42.3\n",
            "O Setor C tem a média de 35.8\n",
            "O Setor D tem a média de 36.5\n",
            "A média de idade geral é 38.625\n",
            "18 pessoas estão acima da idade média geral\n"
          ]
        }
      ]
    }
  ]
}